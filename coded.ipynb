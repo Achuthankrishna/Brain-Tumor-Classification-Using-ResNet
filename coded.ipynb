{
  "cells": [
    {
      "cell_type": "code",
      "execution_count": 1,
      "metadata": {
        "id": "gTOPsN5vPiw-"
      },
      "outputs": [],
      "source": [
        "import numpy as np \n",
        "import pandas as pd                                                            \n",
        "import os\n",
        "%matplotlib inline\n",
        "import matplotlib.pyplot as plt\n",
        "import seaborn as sns\n",
        "import cv2\n",
        "import tensorflow as tf\n"
      ]
    },
    {
      "cell_type": "code",
      "execution_count": 2,
      "metadata": {
        "colab": {
          "base_uri": "https://localhost:8080/",
          "height": 0
        },
        "id": "LwrW3PPTMxBa",
        "outputId": "9f5bc797-6006-4b41-f444-6883b05cd1df"
      },
      "outputs": [
        {
          "output_type": "stream",
          "name": "stdout",
          "text": [
            "Mounted at /content/gdrive\n"
          ]
        }
      ],
      "source": [
        "from google.colab import drive\n",
        "drive.mount('/content/gdrive')"
      ]
    },
    {
      "cell_type": "code",
      "execution_count": 3,
      "metadata": {
        "id": "7peYzaDEMpCW"
      },
      "outputs": [],
      "source": [
        "\n",
        "DATADIR = \"/content/gdrive/MyDrive/ENPM809K/Cropped\"\n",
        "# Te_DATADIR = \"Testing\"\n",
        "CT_Datadir = \"/content/gdrive/MyDrive/ENPM809K/Cropped_test\"\n",
        "CATEGORIES = [\"glioma_tumor\",\"meningioma_tumor\",\"no_tumor\",\"pituitary_tumor\"]\n",
        "# Te_CATEGORIES= [\"glioma_tumor\",\"meningioma_tumor\",\"no_tumor\",\"pituitary_tumor\"]\n",
        "IMG_SIZE = 150\n"
      ]
    },
    {
      "cell_type": "code",
      "execution_count": 4,
      "metadata": {
        "colab": {
          "base_uri": "https://localhost:8080/",
          "height": 559
        },
        "id": "jpcVZ6RASJtx",
        "outputId": "cd0d1124-8e04-456c-bc88-7f0d0ce6dc70"
      },
      "outputs": [
        {
          "output_type": "stream",
          "name": "stdout",
          "text": [
            "{'glioma_tumor': 789, 'meningioma_tumor': 1319, 'no_tumor': 1446, 'pituitary_tumor': 1456}\n"
          ]
        },
        {
          "output_type": "display_data",
          "data": {
            "text/html": [
              "<html>\n",
              "<head><meta charset=\"utf-8\" /></head>\n",
              "<body>\n",
              "    <div>            <script src=\"https://cdnjs.cloudflare.com/ajax/libs/mathjax/2.7.5/MathJax.js?config=TeX-AMS-MML_SVG\"></script><script type=\"text/javascript\">if (window.MathJax) {MathJax.Hub.Config({SVG: {font: \"STIX-Web\"}});}</script>                <script type=\"text/javascript\">window.PlotlyConfig = {MathJaxConfig: 'local'};</script>\n",
              "        <script src=\"https://cdn.plot.ly/plotly-2.8.3.min.js\"></script>                <div id=\"e1cfafc6-5f00-46cc-86c3-10cb868def6d\" class=\"plotly-graph-div\" style=\"height:525px; width:100%;\"></div>            <script type=\"text/javascript\">                                    window.PLOTLYENV=window.PLOTLYENV || {};                                    if (document.getElementById(\"e1cfafc6-5f00-46cc-86c3-10cb868def6d\")) {                    Plotly.newPlot(                        \"e1cfafc6-5f00-46cc-86c3-10cb868def6d\",                        [{\"domain\":{\"x\":[0.0,1.0],\"y\":[0.0,1.0]},\"hole\":0.05,\"hovertemplate\":\"label=%{label}<br>value=%{value}<extra></extra>\",\"labels\":[\"glioma_tumor\",\"meningioma_tumor\",\"no_tumor\",\"pituitary_tumor\"],\"legendgroup\":\"\",\"name\":\"\",\"showlegend\":true,\"values\":[789,1319,1446,1456],\"type\":\"pie\"}],                        {\"template\":{\"data\":{\"bar\":[{\"error_x\":{\"color\":\"#2a3f5f\"},\"error_y\":{\"color\":\"#2a3f5f\"},\"marker\":{\"line\":{\"color\":\"#E5ECF6\",\"width\":0.5},\"pattern\":{\"fillmode\":\"overlay\",\"size\":10,\"solidity\":0.2}},\"type\":\"bar\"}],\"barpolar\":[{\"marker\":{\"line\":{\"color\":\"#E5ECF6\",\"width\":0.5},\"pattern\":{\"fillmode\":\"overlay\",\"size\":10,\"solidity\":0.2}},\"type\":\"barpolar\"}],\"carpet\":[{\"aaxis\":{\"endlinecolor\":\"#2a3f5f\",\"gridcolor\":\"white\",\"linecolor\":\"white\",\"minorgridcolor\":\"white\",\"startlinecolor\":\"#2a3f5f\"},\"baxis\":{\"endlinecolor\":\"#2a3f5f\",\"gridcolor\":\"white\",\"linecolor\":\"white\",\"minorgridcolor\":\"white\",\"startlinecolor\":\"#2a3f5f\"},\"type\":\"carpet\"}],\"choropleth\":[{\"colorbar\":{\"outlinewidth\":0,\"ticks\":\"\"},\"type\":\"choropleth\"}],\"contour\":[{\"colorbar\":{\"outlinewidth\":0,\"ticks\":\"\"},\"colorscale\":[[0.0,\"#0d0887\"],[0.1111111111111111,\"#46039f\"],[0.2222222222222222,\"#7201a8\"],[0.3333333333333333,\"#9c179e\"],[0.4444444444444444,\"#bd3786\"],[0.5555555555555556,\"#d8576b\"],[0.6666666666666666,\"#ed7953\"],[0.7777777777777778,\"#fb9f3a\"],[0.8888888888888888,\"#fdca26\"],[1.0,\"#f0f921\"]],\"type\":\"contour\"}],\"contourcarpet\":[{\"colorbar\":{\"outlinewidth\":0,\"ticks\":\"\"},\"type\":\"contourcarpet\"}],\"heatmap\":[{\"colorbar\":{\"outlinewidth\":0,\"ticks\":\"\"},\"colorscale\":[[0.0,\"#0d0887\"],[0.1111111111111111,\"#46039f\"],[0.2222222222222222,\"#7201a8\"],[0.3333333333333333,\"#9c179e\"],[0.4444444444444444,\"#bd3786\"],[0.5555555555555556,\"#d8576b\"],[0.6666666666666666,\"#ed7953\"],[0.7777777777777778,\"#fb9f3a\"],[0.8888888888888888,\"#fdca26\"],[1.0,\"#f0f921\"]],\"type\":\"heatmap\"}],\"heatmapgl\":[{\"colorbar\":{\"outlinewidth\":0,\"ticks\":\"\"},\"colorscale\":[[0.0,\"#0d0887\"],[0.1111111111111111,\"#46039f\"],[0.2222222222222222,\"#7201a8\"],[0.3333333333333333,\"#9c179e\"],[0.4444444444444444,\"#bd3786\"],[0.5555555555555556,\"#d8576b\"],[0.6666666666666666,\"#ed7953\"],[0.7777777777777778,\"#fb9f3a\"],[0.8888888888888888,\"#fdca26\"],[1.0,\"#f0f921\"]],\"type\":\"heatmapgl\"}],\"histogram\":[{\"marker\":{\"pattern\":{\"fillmode\":\"overlay\",\"size\":10,\"solidity\":0.2}},\"type\":\"histogram\"}],\"histogram2d\":[{\"colorbar\":{\"outlinewidth\":0,\"ticks\":\"\"},\"colorscale\":[[0.0,\"#0d0887\"],[0.1111111111111111,\"#46039f\"],[0.2222222222222222,\"#7201a8\"],[0.3333333333333333,\"#9c179e\"],[0.4444444444444444,\"#bd3786\"],[0.5555555555555556,\"#d8576b\"],[0.6666666666666666,\"#ed7953\"],[0.7777777777777778,\"#fb9f3a\"],[0.8888888888888888,\"#fdca26\"],[1.0,\"#f0f921\"]],\"type\":\"histogram2d\"}],\"histogram2dcontour\":[{\"colorbar\":{\"outlinewidth\":0,\"ticks\":\"\"},\"colorscale\":[[0.0,\"#0d0887\"],[0.1111111111111111,\"#46039f\"],[0.2222222222222222,\"#7201a8\"],[0.3333333333333333,\"#9c179e\"],[0.4444444444444444,\"#bd3786\"],[0.5555555555555556,\"#d8576b\"],[0.6666666666666666,\"#ed7953\"],[0.7777777777777778,\"#fb9f3a\"],[0.8888888888888888,\"#fdca26\"],[1.0,\"#f0f921\"]],\"type\":\"histogram2dcontour\"}],\"mesh3d\":[{\"colorbar\":{\"outlinewidth\":0,\"ticks\":\"\"},\"type\":\"mesh3d\"}],\"parcoords\":[{\"line\":{\"colorbar\":{\"outlinewidth\":0,\"ticks\":\"\"}},\"type\":\"parcoords\"}],\"pie\":[{\"automargin\":true,\"type\":\"pie\"}],\"scatter\":[{\"marker\":{\"colorbar\":{\"outlinewidth\":0,\"ticks\":\"\"}},\"type\":\"scatter\"}],\"scatter3d\":[{\"line\":{\"colorbar\":{\"outlinewidth\":0,\"ticks\":\"\"}},\"marker\":{\"colorbar\":{\"outlinewidth\":0,\"ticks\":\"\"}},\"type\":\"scatter3d\"}],\"scattercarpet\":[{\"marker\":{\"colorbar\":{\"outlinewidth\":0,\"ticks\":\"\"}},\"type\":\"scattercarpet\"}],\"scattergeo\":[{\"marker\":{\"colorbar\":{\"outlinewidth\":0,\"ticks\":\"\"}},\"type\":\"scattergeo\"}],\"scattergl\":[{\"marker\":{\"colorbar\":{\"outlinewidth\":0,\"ticks\":\"\"}},\"type\":\"scattergl\"}],\"scattermapbox\":[{\"marker\":{\"colorbar\":{\"outlinewidth\":0,\"ticks\":\"\"}},\"type\":\"scattermapbox\"}],\"scatterpolar\":[{\"marker\":{\"colorbar\":{\"outlinewidth\":0,\"ticks\":\"\"}},\"type\":\"scatterpolar\"}],\"scatterpolargl\":[{\"marker\":{\"colorbar\":{\"outlinewidth\":0,\"ticks\":\"\"}},\"type\":\"scatterpolargl\"}],\"scatterternary\":[{\"marker\":{\"colorbar\":{\"outlinewidth\":0,\"ticks\":\"\"}},\"type\":\"scatterternary\"}],\"surface\":[{\"colorbar\":{\"outlinewidth\":0,\"ticks\":\"\"},\"colorscale\":[[0.0,\"#0d0887\"],[0.1111111111111111,\"#46039f\"],[0.2222222222222222,\"#7201a8\"],[0.3333333333333333,\"#9c179e\"],[0.4444444444444444,\"#bd3786\"],[0.5555555555555556,\"#d8576b\"],[0.6666666666666666,\"#ed7953\"],[0.7777777777777778,\"#fb9f3a\"],[0.8888888888888888,\"#fdca26\"],[1.0,\"#f0f921\"]],\"type\":\"surface\"}],\"table\":[{\"cells\":{\"fill\":{\"color\":\"#EBF0F8\"},\"line\":{\"color\":\"white\"}},\"header\":{\"fill\":{\"color\":\"#C8D4E3\"},\"line\":{\"color\":\"white\"}},\"type\":\"table\"}]},\"layout\":{\"annotationdefaults\":{\"arrowcolor\":\"#2a3f5f\",\"arrowhead\":0,\"arrowwidth\":1},\"autotypenumbers\":\"strict\",\"coloraxis\":{\"colorbar\":{\"outlinewidth\":0,\"ticks\":\"\"}},\"colorscale\":{\"diverging\":[[0,\"#8e0152\"],[0.1,\"#c51b7d\"],[0.2,\"#de77ae\"],[0.3,\"#f1b6da\"],[0.4,\"#fde0ef\"],[0.5,\"#f7f7f7\"],[0.6,\"#e6f5d0\"],[0.7,\"#b8e186\"],[0.8,\"#7fbc41\"],[0.9,\"#4d9221\"],[1,\"#276419\"]],\"sequential\":[[0.0,\"#0d0887\"],[0.1111111111111111,\"#46039f\"],[0.2222222222222222,\"#7201a8\"],[0.3333333333333333,\"#9c179e\"],[0.4444444444444444,\"#bd3786\"],[0.5555555555555556,\"#d8576b\"],[0.6666666666666666,\"#ed7953\"],[0.7777777777777778,\"#fb9f3a\"],[0.8888888888888888,\"#fdca26\"],[1.0,\"#f0f921\"]],\"sequentialminus\":[[0.0,\"#0d0887\"],[0.1111111111111111,\"#46039f\"],[0.2222222222222222,\"#7201a8\"],[0.3333333333333333,\"#9c179e\"],[0.4444444444444444,\"#bd3786\"],[0.5555555555555556,\"#d8576b\"],[0.6666666666666666,\"#ed7953\"],[0.7777777777777778,\"#fb9f3a\"],[0.8888888888888888,\"#fdca26\"],[1.0,\"#f0f921\"]]},\"colorway\":[\"#636efa\",\"#EF553B\",\"#00cc96\",\"#ab63fa\",\"#FFA15A\",\"#19d3f3\",\"#FF6692\",\"#B6E880\",\"#FF97FF\",\"#FECB52\"],\"font\":{\"color\":\"#2a3f5f\"},\"geo\":{\"bgcolor\":\"white\",\"lakecolor\":\"white\",\"landcolor\":\"#E5ECF6\",\"showlakes\":true,\"showland\":true,\"subunitcolor\":\"white\"},\"hoverlabel\":{\"align\":\"left\"},\"hovermode\":\"closest\",\"mapbox\":{\"style\":\"light\"},\"paper_bgcolor\":\"white\",\"plot_bgcolor\":\"#E5ECF6\",\"polar\":{\"angularaxis\":{\"gridcolor\":\"white\",\"linecolor\":\"white\",\"ticks\":\"\"},\"bgcolor\":\"#E5ECF6\",\"radialaxis\":{\"gridcolor\":\"white\",\"linecolor\":\"white\",\"ticks\":\"\"}},\"scene\":{\"xaxis\":{\"backgroundcolor\":\"#E5ECF6\",\"gridcolor\":\"white\",\"gridwidth\":2,\"linecolor\":\"white\",\"showbackground\":true,\"ticks\":\"\",\"zerolinecolor\":\"white\"},\"yaxis\":{\"backgroundcolor\":\"#E5ECF6\",\"gridcolor\":\"white\",\"gridwidth\":2,\"linecolor\":\"white\",\"showbackground\":true,\"ticks\":\"\",\"zerolinecolor\":\"white\"},\"zaxis\":{\"backgroundcolor\":\"#E5ECF6\",\"gridcolor\":\"white\",\"gridwidth\":2,\"linecolor\":\"white\",\"showbackground\":true,\"ticks\":\"\",\"zerolinecolor\":\"white\"}},\"shapedefaults\":{\"line\":{\"color\":\"#2a3f5f\"}},\"ternary\":{\"aaxis\":{\"gridcolor\":\"white\",\"linecolor\":\"white\",\"ticks\":\"\"},\"baxis\":{\"gridcolor\":\"white\",\"linecolor\":\"white\",\"ticks\":\"\"},\"bgcolor\":\"#E5ECF6\",\"caxis\":{\"gridcolor\":\"white\",\"linecolor\":\"white\",\"ticks\":\"\"}},\"title\":{\"x\":0.05},\"xaxis\":{\"automargin\":true,\"gridcolor\":\"white\",\"linecolor\":\"white\",\"ticks\":\"\",\"title\":{\"standoff\":15},\"zerolinecolor\":\"white\",\"zerolinewidth\":2},\"yaxis\":{\"automargin\":true,\"gridcolor\":\"white\",\"linecolor\":\"white\",\"ticks\":\"\",\"title\":{\"standoff\":15},\"zerolinecolor\":\"white\",\"zerolinewidth\":2}}},\"legend\":{\"tracegroupgap\":0},\"title\":{\"text\":\"CLasses Info\",\"x\":0.1}},                        {\"responsive\": true}                    ).then(function(){\n",
              "                            \n",
              "var gd = document.getElementById('e1cfafc6-5f00-46cc-86c3-10cb868def6d');\n",
              "var x = new MutationObserver(function (mutations, observer) {{\n",
              "        var display = window.getComputedStyle(gd).display;\n",
              "        if (!display || display === 'none') {{\n",
              "            console.log([gd, 'removed!']);\n",
              "            Plotly.purge(gd);\n",
              "            observer.disconnect();\n",
              "        }}\n",
              "}});\n",
              "\n",
              "// Listen for the removal of the full notebook cells\n",
              "var notebookContainer = gd.closest('#notebook-container');\n",
              "if (notebookContainer) {{\n",
              "    x.observe(notebookContainer, {childList: true});\n",
              "}}\n",
              "\n",
              "// Listen for the clearing of the current output cell\n",
              "var outputEl = gd.closest('.output');\n",
              "if (outputEl) {{\n",
              "    x.observe(outputEl, {childList: true});\n",
              "}}\n",
              "\n",
              "                        })                };                            </script>        </div>\n",
              "</body>\n",
              "</html>"
            ]
          },
          "metadata": {}
        }
      ],
      "source": [
        "import plotly.express as px\n",
        "classes_info = {}\n",
        "classes = sorted(os.listdir(DATADIR))\n",
        "for name in classes:\n",
        "    classes_info[name] = len(os.listdir(DATADIR + f'/{name}'))\n",
        "print(classes_info)\n",
        "fig = px.pie(names=classes_info.keys(),values=classes_info.values(),hole=0.05,title='CLasses Info')\n",
        "fig.update_layout({'title':{\"x\":0.1}})\n",
        "fig.show()"
      ]
    },
    {
      "cell_type": "code",
      "execution_count": 5,
      "metadata": {
        "id": "JXqE_SwASU2p"
      },
      "outputs": [],
      "source": [
        "glimoa_train = os.listdir(\"/content/gdrive/MyDrive/ENPM809K/Cropped/glioma_tumor\")\n",
        "men_train =  os.listdir(\"/content/gdrive/MyDrive/ENPM809K/Cropped/meningioma_tumor\")\n",
        "notumor_train = os.listdir(\"/content/gdrive/MyDrive/ENPM809K/Cropped/no_tumor\")\n",
        "pit_train =  os.listdir(\"/content/gdrive/MyDrive/ENPM809K/Cropped/pituitary_tumor\")"
      ]
    },
    {
      "cell_type": "code",
      "execution_count": 6,
      "metadata": {
        "id": "Ddbtm_vo0WDd"
      },
      "outputs": [],
      "source": [
        "# glimoa_test = os.listdir(\"Testing/glioma_tumor\")\n",
        "# men_test =  os.listdir(\"Testing/meningioma_tumor\")\n",
        "# notumor_test = os.listdir(\"Testing/no_tumor\")\n",
        "# pit_train =  os.listdir(\"Testing/pituitary_tumor\")"
      ]
    },
    {
      "cell_type": "code",
      "execution_count": 6,
      "metadata": {
        "colab": {
          "base_uri": "https://localhost:8080/",
          "height": 282
        },
        "id": "UxaLaEkWSqwd",
        "outputId": "f06ab3b9-9692-4f45-f1d9-021fd3d85285"
      },
      "outputs": [
        {
          "output_type": "execute_result",
          "data": {
            "text/plain": [
              "<matplotlib.axes._subplots.AxesSubplot at 0x7f6444f51820>"
            ]
          },
          "metadata": {},
          "execution_count": 6
        },
        {
          "output_type": "display_data",
          "data": {
            "text/plain": [
              "<Figure size 432x288 with 1 Axes>"
            ],
            "image/png": "[encoded data removed]"
          },
          "metadata": {
            "needs_background": "light"
          }
        }
      ],
      "source": [
        "#picture in the  dataset\n",
        "labels = [\"Glioma\", \"Meningioma\", \"No tumor\", \"Pituitary\"]\n",
        "values = [len(glimoa_train), len(men_train), len(notumor_train), len(pit_train)]\n",
        "sns.barplot(x = labels, y = values, palette=\"coolwarm\")"
      ]
    },
    {
      "cell_type": "code",
      "execution_count": 7,
      "metadata": {
        "id": "-mW3qg_yStd0"
      },
      "outputs": [],
      "source": [
        "training_data = []\n",
        "\n",
        "def create_training_data():\n",
        "    for category in CATEGORIES:\n",
        "        path = os.path.join(DATADIR,category)\n",
        "        class_num = CATEGORIES.index(category)\n",
        "        for img in os.listdir(path):\n",
        "            try:\n",
        "                img_array = cv2.imread(os.path.join(path,img),cv2.IMREAD_GRAYSCALE)\n",
        "                new_array = cv2.resize(img_array,(IMG_SIZE,IMG_SIZE)) \n",
        "                training_data.append([new_array,class_num])\n",
        "            except Exception as e:\n",
        "                pass\n",
        "create_training_data()"
      ]
    },
    {
      "cell_type": "code",
      "execution_count": 8,
      "metadata": {
        "id": "0EEszIjL0WDe"
      },
      "outputs": [],
      "source": [
        "cropped_test_data = []\n",
        "\n",
        "def create_croppedtest_data():\n",
        "    for category in CATEGORIES:\n",
        "        path = os.path.join(CT_Datadir,category)\n",
        "        class_num = CATEGORIES.index(category)\n",
        "        for img in os.listdir(path):\n",
        "            try:\n",
        "                img_array = cv2.imread(os.path.join(path,img),cv2.IMREAD_GRAYSCALE)\n",
        "                new_array = cv2.resize(img_array,(IMG_SIZE,IMG_SIZE)) \n",
        "                cropped_test_data.append([new_array,class_num])\n",
        "            except Exception as e:\n",
        "                pass\n",
        "create_croppedtest_data()"
      ]
    },
    {
      "cell_type": "code",
      "execution_count": 13,
      "metadata": {
        "id": "FA93QbxiSyZn",
        "colab": {
          "base_uri": "https://localhost:8080/",
          "height": 0
        },
        "outputId": "3669d31e-6ef9-44f1-efa5-e646640354ed"
      },
      "outputs": [
        {
          "output_type": "stream",
          "name": "stdout",
          "text": [
            "(5010, 150, 150)\n",
            "(5010, 150, 150, 1)\n",
            "(5010, 150, 150)\n"
          ]
        }
      ],
      "source": [
        "Xr = []\n",
        "y = []\n",
        "for features,label in training_data:\n",
        "    Xr.append(features)\n",
        "    y.append(label)\n",
        "Xr = np.array(Xr).reshape(-1,IMG_SIZE,IMG_SIZE)\n",
        "print(Xr.shape)\n",
        "X = Xr/255.0  \n",
        "X = X.reshape(-1,150,150,1)\n",
        "print(X.shape)\n",
        "print(Xr.shape)\n"
      ]
    },
    {
      "cell_type": "code",
      "execution_count": 10,
      "metadata": {
        "id": "i0JUeum-0WDf",
        "colab": {
          "base_uri": "https://localhost:8080/",
          "height": 0
        },
        "outputId": "f84fed11-de79-4267-80ff-099223345bff"
      },
      "outputs": [
        {
          "output_type": "stream",
          "name": "stdout",
          "text": [
            "(1251, 150, 150)\n",
            "(1251, 150, 150, 1)\n"
          ]
        }
      ],
      "source": [
        "Xce = []\n",
        "yce = []\n",
        "for features,label in cropped_test_data:\n",
        "    Xce.append(features)\n",
        "    yce.append(label)\n",
        "Xce = np.array(Xce).reshape(-1,IMG_SIZE,IMG_SIZE)\n",
        "print(Xce.shape)\n",
        "Xce = Xce/255.0\n",
        "Xce = Xce.reshape(-1,150,150,1)\n",
        "print(Xce.shape)"
      ]
    },
    {
      "cell_type": "code",
      "execution_count": 14,
      "metadata": {
        "id": "8svegXGPS1N1"
      },
      "outputs": [],
      "source": [
        "from keras.utils.np_utils import to_categorical # convert to one-hot-encoding\n",
        "y = to_categorical(y, num_classes = 4)\n",
        "# ye = to_categorical(ye, num_classes = 4)\n",
        "yce = to_categorical(yce, num_classes = 4)"
      ]
    },
    {
      "cell_type": "markdown",
      "source": [
        "# **Train/Val Split**"
      ],
      "metadata": {
        "id": "zmRGo-Hyb3jL"
      }
    },
    {
      "cell_type": "code",
      "execution_count": 15,
      "metadata": {
        "id": "rNYtzRHFS3Ph",
        "colab": {
          "base_uri": "https://localhost:8080/",
          "height": 0
        },
        "outputId": "d37274c1-0f92-4980-aafb-6a9bd50dff75"
      },
      "outputs": [
        {
          "output_type": "stream",
          "name": "stdout",
          "text": [
            "x_train shape (4008, 150, 150, 1)\n",
            "x_test shape (1002, 150, 150, 1)\n",
            "y_train shape (4008, 4)\n",
            "y_test shape (1002, 4)\n"
          ]
        }
      ],
      "source": [
        "from sklearn.model_selection import train_test_split\n",
        "X_train, X_val, Y_train, Y_val = train_test_split(X, y, test_size = 0.2, random_state=42)\n",
        "print(\"x_train shape\",X_train.shape)\n",
        "print(\"x_test shape\",X_val.shape)\n",
        "print(\"y_train shape\",Y_train.shape)\n",
        "print(\"y_test shape\",Y_val.shape)\n"
      ]
    },
    {
      "cell_type": "code",
      "execution_count": 16,
      "metadata": {
        "id": "AVCxB6UVTieL"
      },
      "outputs": [],
      "source": [
        "from sklearn.metrics import confusion_matrix\n",
        "import itertools\n",
        "\n",
        "from keras.utils.np_utils import to_categorical \n",
        "from keras.models import Sequential\n",
        "from keras.layers import Dense, Dropout, Flatten, Conv2D, MaxPool2D\n",
        "from keras.optimizers import RMSprop ,Adam\n",
        "from keras.preprocessing.image import ImageDataGenerator\n",
        "from keras.callbacks import ReduceLROnPlateau\n",
        "from keras.layers import Flatten,Activation"
      ]
    },
    {
      "cell_type": "code",
      "execution_count": 17,
      "metadata": {
        "id": "Q1jFgROwToxK"
      },
      "outputs": [],
      "source": [
        "datagen = ImageDataGenerator(\n",
        "        featurewise_center=False,  \n",
        "        samplewise_center=False, \n",
        "        featurewise_std_normalization=False,  \n",
        "        samplewise_std_normalization=False,  \n",
        "        zca_whitening=False,  \n",
        "        rotation_range=0,\n",
        "        zoom_range = 0,\n",
        "        width_shift_range=0,  \n",
        "        height_shift_range=0,  \n",
        "        horizontal_flip=True,  \n",
        "        vertical_flip=False)  "
      ]
    },
    {
      "cell_type": "code",
      "execution_count": 18,
      "metadata": {
        "id": "nJrBKi_d0WDg",
        "colab": {
          "base_uri": "https://localhost:8080/",
          "height": 0
        },
        "outputId": "ddf9ba23-fb7e-4f50-8b12-9b6be4e918db"
      },
      "outputs": [
        {
          "output_type": "stream",
          "name": "stdout",
          "text": [
            "Found 1251 files belonging to 4 classes.\n"
          ]
        }
      ],
      "source": [
        "testgen = ImageDataGenerator(\n",
        "        rescale=1./255)\n",
        "testds = tf.keras.preprocessing.image_dataset_from_directory('/content/gdrive/MyDrive/ENPM809K/Cropped_test',\n",
        "                                     image_size=(150,150),\n",
        "                                     seed=123,\n",
        "                                     batch_size  = 16,\n",
        "                                     shuffle=False)"
      ]
    },
    {
      "cell_type": "code",
      "execution_count": 19,
      "metadata": {
        "id": "Y-nPrjte4-o0"
      },
      "outputs": [],
      "source": [
        "\n",
        "from tensorflow.keras import layers"
      ]
    },
    {
      "cell_type": "markdown",
      "source": [
        "**CNN 7x7**"
      ],
      "metadata": {
        "id": "21TIKnUXbm9Q"
      }
    },
    {
      "cell_type": "code",
      "execution_count": 21,
      "metadata": {
        "id": "YpBX6bCqUjLb",
        "colab": {
          "base_uri": "https://localhost:8080/",
          "height": 0
        },
        "outputId": "e0d66160-0ede-4bc2-dec8-5715dbed1d2c"
      },
      "outputs": [
        {
          "output_type": "stream",
          "name": "stderr",
          "text": [
            "/usr/local/lib/python3.8/dist-packages/keras/optimizers/optimizer_v2/adam.py:110: UserWarning:\n",
            "\n",
            "The `lr` argument is deprecated, use `learning_rate` instead.\n",
            "\n"
          ]
        }
      ],
      "source": [
        "from keras.layers import *\n",
        "model = Sequential()\n",
        "# 7 conv. & 7 maxpool\n",
        "model.add(Conv2D(filters = 64, kernel_size = (2,2),padding = 'Same', \n",
        "                 activation ='relu', input_shape = (150,150,1)))\n",
        "model.add(BatchNormalization())\n",
        "model.add(MaxPool2D(pool_size=(2,2)))\n",
        "model.add(Dropout(0.25))\n",
        "#\n",
        "model.add(Conv2D(filters = 128, kernel_size = (3,3),padding = 'Same', \n",
        "                 activation ='relu'))\n",
        "model.add(BatchNormalization())\n",
        "model.add(MaxPool2D(pool_size=(2,2), strides=(2,2)))\n",
        "#model.add(Dropout(0.6))\n",
        "\n",
        "#\n",
        "model.add(Conv2D(filters = 128, kernel_size = (3,3),padding = 'Same', \n",
        "                 activation ='relu'))\n",
        "model.add(BatchNormalization())\n",
        "model.add(MaxPool2D(pool_size=(2,2), strides=(2,2)))\n",
        "model.add(Dropout(0.25))\n",
        "\n",
        "#\n",
        "model.add(Conv2D(filters = 128, kernel_size = (2,2),padding = 'Same', \n",
        "                 activation ='relu'))\n",
        "model.add(BatchNormalization())\n",
        "model.add(MaxPool2D(pool_size=(2,2), strides=(2,2)))\n",
        "model.add(Dropout(0.25))\n",
        "\n",
        "\n",
        "#\n",
        "model.add(Conv2D(filters = 256, kernel_size = (2,2),padding = 'Same', \n",
        "                 activation ='relu'))\n",
        "model.add(BatchNormalization())\n",
        "model.add(MaxPool2D(pool_size=(2,2), strides=(2,2)))\n",
        "#model.add(Dropout(0.5))\n",
        "\n",
        "#\n",
        "\n",
        "model.add(Conv2D(filters = 256, kernel_size = (2,2),padding = 'Same', \n",
        "                 activation ='relu'))\n",
        "model.add(BatchNormalization())\n",
        "model.add(MaxPool2D(pool_size=(2,2), strides=(2,2)))\n",
        "# model.add(Dropout(0.5))\n",
        "\n",
        "# \n",
        "model.add(Conv2D(filters = 512, kernel_size = (2,2),padding = 'Same', \n",
        "                 activation ='relu'))\n",
        "model.add(BatchNormalization())\n",
        "model.add(MaxPool2D(pool_size=(2,2), strides=(2,2)))\n",
        "#model.add(Dropout(0.5))\n",
        "\n",
        "# #\n",
        "# model.add(Conv2D(filters = 512, kernel_size = (2,2),padding = 'Same', \n",
        "#                  activation ='relu'))\n",
        "# model.add(MaxPool2D(pool_size=(2,2), strides=(2,2)))\n",
        "# model.add(Dropout(0.5))\n",
        "# model.add(BatchNormalization()) \n",
        "#\n",
        "model.add(Flatten())\n",
        "model.add(Dense(1024, activation = \"relu\"))\n",
        "model.add(Dropout(0.25))\n",
        "model.add(BatchNormalization())\n",
        "model.add(Dense(4, activation = \"softmax\"))\n",
        "optimizer = Adam(lr=5e-4, beta_1=0.9, beta_2=0.999)\n",
        "model.compile(optimizer = optimizer , loss = \"categorical_crossentropy\", metrics=[\"accuracy\"])\n",
        "epochs = 100\n",
        "batch_size = 50"
      ]
    },
    {
      "cell_type": "code",
      "execution_count": 22,
      "metadata": {
        "id": "vcL9DMJtUpeR",
        "colab": {
          "base_uri": "https://localhost:8080/",
          "height": 0
        },
        "outputId": "9d806753-0949-4b39-f025-9d64db1fe06e"
      },
      "outputs": [
        {
          "output_type": "stream",
          "name": "stdout",
          "text": [
            "Epoch 1/100\n"
          ]
        },
        {
          "output_type": "stream",
          "name": "stderr",
          "text": [
            "<ipython-input-22-9fece17c202d>:2: UserWarning:\n",
            "\n",
            "`Model.fit_generator` is deprecated and will be removed in a future version. Please use `Model.fit`, which supports generators.\n",
            "\n"
          ]
        },
        {
          "output_type": "stream",
          "name": "stdout",
          "text": [
            "80/80 [==============================] - 15s 36ms/step - loss: 1.2096 - accuracy: 0.5685 - val_loss: 1.8058 - val_accuracy: 0.2924\n",
            "Epoch 2/100\n",
            "80/80 [==============================] - 2s 26ms/step - loss: 0.9364 - accuracy: 0.6529 - val_loss: 2.5097 - val_accuracy: 0.2924\n",
            "Epoch 3/100\n",
            "80/80 [==============================] - 2s 25ms/step - loss: 0.7951 - accuracy: 0.7031 - val_loss: 2.9492 - val_accuracy: 0.2924\n",
            "Epoch 4/100\n",
            "80/80 [==============================] - 2s 25ms/step - loss: 0.6800 - accuracy: 0.7509 - val_loss: 4.8060 - val_accuracy: 0.2934\n",
            "Epoch 5/100\n",
            "80/80 [==============================] - 2s 25ms/step - loss: 0.6114 - accuracy: 0.7774 - val_loss: 3.1114 - val_accuracy: 0.3074\n",
            "Epoch 6/100\n",
            "80/80 [==============================] - 2s 25ms/step - loss: 0.5499 - accuracy: 0.8027 - val_loss: 4.3473 - val_accuracy: 0.3613\n",
            "Epoch 7/100\n",
            "80/80 [==============================] - 2s 25ms/step - loss: 0.5282 - accuracy: 0.8034 - val_loss: 3.1067 - val_accuracy: 0.4481\n",
            "Epoch 8/100\n",
            "80/80 [==============================] - 2s 25ms/step - loss: 0.4888 - accuracy: 0.8254 - val_loss: 3.3029 - val_accuracy: 0.4571\n",
            "Epoch 9/100\n",
            "80/80 [==============================] - 2s 25ms/step - loss: 0.4463 - accuracy: 0.8368 - val_loss: 2.0308 - val_accuracy: 0.5788\n",
            "Epoch 10/100\n",
            "80/80 [==============================] - 2s 25ms/step - loss: 0.4384 - accuracy: 0.8428 - val_loss: 1.6726 - val_accuracy: 0.6257\n",
            "Epoch 11/100\n",
            "80/80 [==============================] - 2s 25ms/step - loss: 0.3669 - accuracy: 0.8711 - val_loss: 1.1778 - val_accuracy: 0.6766\n",
            "Epoch 12/100\n",
            "80/80 [==============================] - 2s 25ms/step - loss: 0.3613 - accuracy: 0.8661 - val_loss: 1.2145 - val_accuracy: 0.6906\n",
            "Epoch 13/100\n",
            "80/80 [==============================] - 2s 25ms/step - loss: 0.3456 - accuracy: 0.8782 - val_loss: 0.9677 - val_accuracy: 0.7146\n",
            "Epoch 14/100\n",
            "80/80 [==============================] - 2s 25ms/step - loss: 0.3308 - accuracy: 0.8830 - val_loss: 0.5851 - val_accuracy: 0.8194\n",
            "Epoch 15/100\n",
            "80/80 [==============================] - 2s 25ms/step - loss: 0.3105 - accuracy: 0.8901 - val_loss: 0.7723 - val_accuracy: 0.7844\n",
            "Epoch 16/100\n",
            "80/80 [==============================] - 2s 25ms/step - loss: 0.2983 - accuracy: 0.9015 - val_loss: 2.0004 - val_accuracy: 0.6118\n",
            "Epoch 17/100\n",
            "80/80 [==============================] - 2s 25ms/step - loss: 0.2576 - accuracy: 0.9101 - val_loss: 2.1308 - val_accuracy: 0.5958\n",
            "Epoch 18/100\n",
            "80/80 [==============================] - 2s 25ms/step - loss: 0.2440 - accuracy: 0.9078 - val_loss: 1.0230 - val_accuracy: 0.6417\n",
            "Epoch 19/100\n",
            "80/80 [==============================] - 2s 25ms/step - loss: 0.2287 - accuracy: 0.9192 - val_loss: 1.8297 - val_accuracy: 0.6118\n",
            "Epoch 20/100\n",
            "80/80 [==============================] - 2s 25ms/step - loss: 0.2579 - accuracy: 0.9093 - val_loss: 1.1544 - val_accuracy: 0.7176\n",
            "Epoch 21/100\n",
            "80/80 [==============================] - 2s 25ms/step - loss: 0.2405 - accuracy: 0.9131 - val_loss: 0.6920 - val_accuracy: 0.7735\n",
            "Epoch 22/100\n",
            "80/80 [==============================] - 2s 25ms/step - loss: 0.2171 - accuracy: 0.9222 - val_loss: 0.4321 - val_accuracy: 0.8713\n",
            "Epoch 23/100\n",
            "80/80 [==============================] - 2s 25ms/step - loss: 0.1885 - accuracy: 0.9361 - val_loss: 1.3500 - val_accuracy: 0.7016\n",
            "Epoch 24/100\n",
            "80/80 [==============================] - 2s 25ms/step - loss: 0.1992 - accuracy: 0.9262 - val_loss: 0.6122 - val_accuracy: 0.8164\n",
            "Epoch 25/100\n",
            "80/80 [==============================] - 2s 25ms/step - loss: 0.1979 - accuracy: 0.9303 - val_loss: 1.5816 - val_accuracy: 0.6707\n",
            "Epoch 26/100\n",
            "80/80 [==============================] - 2s 25ms/step - loss: 0.1815 - accuracy: 0.9384 - val_loss: 1.3793 - val_accuracy: 0.6896\n",
            "Epoch 27/100\n",
            "80/80 [==============================] - 2s 25ms/step - loss: 0.1585 - accuracy: 0.9411 - val_loss: 0.5931 - val_accuracy: 0.8273\n",
            "Epoch 28/100\n",
            "80/80 [==============================] - 2s 25ms/step - loss: 0.1415 - accuracy: 0.9497 - val_loss: 0.6199 - val_accuracy: 0.8214\n",
            "Epoch 29/100\n",
            "80/80 [==============================] - 2s 25ms/step - loss: 0.1680 - accuracy: 0.9391 - val_loss: 1.1050 - val_accuracy: 0.7705\n",
            "Epoch 30/100\n",
            "80/80 [==============================] - 2s 25ms/step - loss: 0.1571 - accuracy: 0.9416 - val_loss: 1.3305 - val_accuracy: 0.7206\n",
            "Epoch 31/100\n",
            "80/80 [==============================] - 2s 25ms/step - loss: 0.1632 - accuracy: 0.9434 - val_loss: 2.5043 - val_accuracy: 0.6327\n",
            "Epoch 32/100\n",
            "80/80 [==============================] - 2s 25ms/step - loss: 0.1355 - accuracy: 0.9467 - val_loss: 0.4492 - val_accuracy: 0.8593\n",
            "Epoch 33/100\n",
            "80/80 [==============================] - 2s 25ms/step - loss: 0.1000 - accuracy: 0.9664 - val_loss: 1.3723 - val_accuracy: 0.6307\n",
            "Epoch 34/100\n",
            "80/80 [==============================] - 2s 25ms/step - loss: 0.1274 - accuracy: 0.9530 - val_loss: 3.5790 - val_accuracy: 0.4960\n",
            "Epoch 35/100\n",
            "80/80 [==============================] - 2s 25ms/step - loss: 0.1346 - accuracy: 0.9497 - val_loss: 0.6825 - val_accuracy: 0.8004\n",
            "Epoch 36/100\n",
            "80/80 [==============================] - 2s 25ms/step - loss: 0.1231 - accuracy: 0.9550 - val_loss: 0.6863 - val_accuracy: 0.8443\n",
            "Epoch 37/100\n",
            "80/80 [==============================] - 2s 25ms/step - loss: 0.1984 - accuracy: 0.9320 - val_loss: 0.9018 - val_accuracy: 0.7854\n",
            "Epoch 38/100\n",
            "80/80 [==============================] - 2s 25ms/step - loss: 0.1653 - accuracy: 0.9371 - val_loss: 1.4858 - val_accuracy: 0.6467\n",
            "Epoch 39/100\n",
            "80/80 [==============================] - 2s 25ms/step - loss: 0.1087 - accuracy: 0.9608 - val_loss: 0.7722 - val_accuracy: 0.8124\n",
            "Epoch 40/100\n",
            "80/80 [==============================] - 2s 25ms/step - loss: 0.1303 - accuracy: 0.9520 - val_loss: 0.4667 - val_accuracy: 0.8523\n",
            "Epoch 41/100\n",
            "80/80 [==============================] - 2s 26ms/step - loss: 0.0881 - accuracy: 0.9684 - val_loss: 0.8477 - val_accuracy: 0.8044\n",
            "Epoch 42/100\n",
            "80/80 [==============================] - 2s 25ms/step - loss: 0.1381 - accuracy: 0.9525 - val_loss: 1.4492 - val_accuracy: 0.6956\n",
            "Epoch 43/100\n",
            "80/80 [==============================] - 2s 25ms/step - loss: 0.0896 - accuracy: 0.9692 - val_loss: 0.4853 - val_accuracy: 0.8743\n",
            "Epoch 44/100\n",
            "80/80 [==============================] - 2s 25ms/step - loss: 0.1014 - accuracy: 0.9611 - val_loss: 0.8822 - val_accuracy: 0.7754\n",
            "Epoch 45/100\n",
            "80/80 [==============================] - 2s 25ms/step - loss: 0.0813 - accuracy: 0.9697 - val_loss: 0.4782 - val_accuracy: 0.8812\n",
            "Epoch 46/100\n",
            "80/80 [==============================] - 2s 26ms/step - loss: 0.0627 - accuracy: 0.9768 - val_loss: 0.4286 - val_accuracy: 0.8882\n",
            "Epoch 47/100\n",
            "80/80 [==============================] - 2s 25ms/step - loss: 0.0724 - accuracy: 0.9765 - val_loss: 0.5102 - val_accuracy: 0.8593\n",
            "Epoch 48/100\n",
            "80/80 [==============================] - 2s 25ms/step - loss: 0.0830 - accuracy: 0.9707 - val_loss: 0.7373 - val_accuracy: 0.8044\n",
            "Epoch 49/100\n",
            "80/80 [==============================] - 2s 26ms/step - loss: 0.0930 - accuracy: 0.9697 - val_loss: 1.0555 - val_accuracy: 0.8134\n",
            "Epoch 50/100\n",
            "80/80 [==============================] - 2s 26ms/step - loss: 0.0846 - accuracy: 0.9712 - val_loss: 2.0831 - val_accuracy: 0.5549\n",
            "Epoch 51/100\n",
            "80/80 [==============================] - 2s 26ms/step - loss: 0.0662 - accuracy: 0.9745 - val_loss: 0.8561 - val_accuracy: 0.8383\n",
            "Epoch 52/100\n",
            "80/80 [==============================] - 2s 25ms/step - loss: 0.0840 - accuracy: 0.9684 - val_loss: 0.6486 - val_accuracy: 0.8373\n",
            "Epoch 53/100\n",
            "80/80 [==============================] - 2s 25ms/step - loss: 0.0590 - accuracy: 0.9768 - val_loss: 0.6553 - val_accuracy: 0.8523\n",
            "Epoch 54/100\n",
            "80/80 [==============================] - 2s 25ms/step - loss: 0.1433 - accuracy: 0.9502 - val_loss: 0.4442 - val_accuracy: 0.8663\n",
            "Epoch 55/100\n",
            "80/80 [==============================] - 2s 26ms/step - loss: 0.0865 - accuracy: 0.9682 - val_loss: 0.7924 - val_accuracy: 0.8014\n",
            "Epoch 56/100\n",
            "80/80 [==============================] - 2s 25ms/step - loss: 0.0626 - accuracy: 0.9780 - val_loss: 1.2889 - val_accuracy: 0.6946\n",
            "Epoch 57/100\n",
            "80/80 [==============================] - 2s 25ms/step - loss: 0.0557 - accuracy: 0.9821 - val_loss: 0.5375 - val_accuracy: 0.8663\n",
            "Epoch 58/100\n",
            "80/80 [==============================] - 2s 25ms/step - loss: 0.0602 - accuracy: 0.9816 - val_loss: 0.4826 - val_accuracy: 0.8852\n",
            "Epoch 59/100\n",
            "80/80 [==============================] - 2s 25ms/step - loss: 0.0628 - accuracy: 0.9780 - val_loss: 0.6298 - val_accuracy: 0.8623\n",
            "Epoch 60/100\n",
            "80/80 [==============================] - 2s 26ms/step - loss: 0.0676 - accuracy: 0.9783 - val_loss: 0.8196 - val_accuracy: 0.8373\n",
            "Epoch 61/100\n",
            "80/80 [==============================] - 2s 25ms/step - loss: 0.0561 - accuracy: 0.9805 - val_loss: 1.9630 - val_accuracy: 0.5788\n",
            "Epoch 62/100\n",
            "80/80 [==============================] - 2s 25ms/step - loss: 0.0514 - accuracy: 0.9826 - val_loss: 4.4493 - val_accuracy: 0.3513\n",
            "Epoch 63/100\n",
            "80/80 [==============================] - 2s 26ms/step - loss: 0.1150 - accuracy: 0.9613 - val_loss: 0.7090 - val_accuracy: 0.8004\n",
            "Epoch 64/100\n",
            "80/80 [==============================] - 2s 25ms/step - loss: 0.0525 - accuracy: 0.9816 - val_loss: 0.8323 - val_accuracy: 0.8154\n",
            "Epoch 65/100\n",
            "80/80 [==============================] - 2s 26ms/step - loss: 0.0613 - accuracy: 0.9788 - val_loss: 0.4201 - val_accuracy: 0.9042\n",
            "Epoch 66/100\n",
            "80/80 [==============================] - 2s 25ms/step - loss: 0.0401 - accuracy: 0.9879 - val_loss: 0.6244 - val_accuracy: 0.8653\n",
            "Epoch 67/100\n",
            "80/80 [==============================] - 2s 25ms/step - loss: 0.0711 - accuracy: 0.9768 - val_loss: 0.4500 - val_accuracy: 0.8892\n",
            "Epoch 68/100\n",
            "80/80 [==============================] - 2s 26ms/step - loss: 0.0597 - accuracy: 0.9790 - val_loss: 0.7275 - val_accuracy: 0.8333\n",
            "Epoch 69/100\n",
            "80/80 [==============================] - 2s 25ms/step - loss: 0.0536 - accuracy: 0.9818 - val_loss: 0.7754 - val_accuracy: 0.8263\n",
            "Epoch 70/100\n",
            "80/80 [==============================] - 2s 25ms/step - loss: 0.0526 - accuracy: 0.9823 - val_loss: 0.4646 - val_accuracy: 0.8762\n",
            "Epoch 71/100\n",
            "80/80 [==============================] - 2s 25ms/step - loss: 0.0685 - accuracy: 0.9778 - val_loss: 6.7236 - val_accuracy: 0.3363\n",
            "Epoch 72/100\n",
            "80/80 [==============================] - 2s 26ms/step - loss: 0.0445 - accuracy: 0.9843 - val_loss: 1.2338 - val_accuracy: 0.7615\n",
            "Epoch 73/100\n",
            "80/80 [==============================] - 2s 25ms/step - loss: 0.0668 - accuracy: 0.9760 - val_loss: 0.9976 - val_accuracy: 0.7705\n",
            "Epoch 74/100\n",
            "80/80 [==============================] - 2s 26ms/step - loss: 0.0458 - accuracy: 0.9861 - val_loss: 0.9344 - val_accuracy: 0.8164\n",
            "Epoch 75/100\n",
            "80/80 [==============================] - 2s 26ms/step - loss: 0.0221 - accuracy: 0.9937 - val_loss: 0.3850 - val_accuracy: 0.9182\n",
            "Epoch 76/100\n",
            "80/80 [==============================] - 2s 25ms/step - loss: 0.0227 - accuracy: 0.9912 - val_loss: 0.7536 - val_accuracy: 0.8423\n",
            "Epoch 77/100\n",
            "80/80 [==============================] - 2s 26ms/step - loss: 0.0255 - accuracy: 0.9912 - val_loss: 0.3987 - val_accuracy: 0.9142\n",
            "Epoch 78/100\n",
            "80/80 [==============================] - 2s 25ms/step - loss: 0.0172 - accuracy: 0.9937 - val_loss: 0.9353 - val_accuracy: 0.8144\n",
            "Epoch 79/100\n",
            "80/80 [==============================] - 2s 26ms/step - loss: 0.0254 - accuracy: 0.9917 - val_loss: 0.7724 - val_accuracy: 0.8533\n",
            "Epoch 80/100\n",
            "80/80 [==============================] - 2s 26ms/step - loss: 0.0545 - accuracy: 0.9808 - val_loss: 1.5388 - val_accuracy: 0.6936\n",
            "Epoch 81/100\n",
            "80/80 [==============================] - 2s 25ms/step - loss: 0.0621 - accuracy: 0.9783 - val_loss: 0.6525 - val_accuracy: 0.8643\n",
            "Epoch 82/100\n",
            "80/80 [==============================] - 2s 25ms/step - loss: 0.0750 - accuracy: 0.9745 - val_loss: 0.4543 - val_accuracy: 0.8912\n",
            "Epoch 83/100\n",
            "80/80 [==============================] - 2s 25ms/step - loss: 0.0530 - accuracy: 0.9811 - val_loss: 1.0177 - val_accuracy: 0.7974\n",
            "Epoch 84/100\n",
            "80/80 [==============================] - 2s 25ms/step - loss: 0.0467 - accuracy: 0.9833 - val_loss: 3.0140 - val_accuracy: 0.4731\n",
            "Epoch 85/100\n",
            "80/80 [==============================] - 2s 26ms/step - loss: 0.0388 - accuracy: 0.9856 - val_loss: 0.6003 - val_accuracy: 0.8633\n",
            "Epoch 86/100\n",
            "80/80 [==============================] - 2s 25ms/step - loss: 0.0214 - accuracy: 0.9919 - val_loss: 0.8620 - val_accuracy: 0.8323\n",
            "Epoch 87/100\n",
            "80/80 [==============================] - 2s 25ms/step - loss: 0.0253 - accuracy: 0.9909 - val_loss: 0.3812 - val_accuracy: 0.9192\n",
            "Epoch 88/100\n",
            "80/80 [==============================] - 2s 25ms/step - loss: 0.0227 - accuracy: 0.9924 - val_loss: 0.3446 - val_accuracy: 0.9222\n",
            "Epoch 89/100\n",
            "80/80 [==============================] - 2s 26ms/step - loss: 0.0149 - accuracy: 0.9947 - val_loss: 0.5047 - val_accuracy: 0.9012\n",
            "Epoch 90/100\n",
            "80/80 [==============================] - 2s 25ms/step - loss: 0.0582 - accuracy: 0.9803 - val_loss: 0.5770 - val_accuracy: 0.8733\n",
            "Epoch 91/100\n",
            "80/80 [==============================] - 2s 26ms/step - loss: 0.0465 - accuracy: 0.9841 - val_loss: 1.3952 - val_accuracy: 0.7715\n",
            "Epoch 92/100\n",
            "80/80 [==============================] - 2s 26ms/step - loss: 0.0589 - accuracy: 0.9795 - val_loss: 0.5235 - val_accuracy: 0.8932\n",
            "Epoch 93/100\n",
            "80/80 [==============================] - 2s 25ms/step - loss: 0.0300 - accuracy: 0.9889 - val_loss: 1.6220 - val_accuracy: 0.6836\n",
            "Epoch 94/100\n",
            "80/80 [==============================] - 2s 25ms/step - loss: 0.0670 - accuracy: 0.9790 - val_loss: 1.3407 - val_accuracy: 0.7305\n",
            "Epoch 95/100\n",
            "80/80 [==============================] - 2s 26ms/step - loss: 0.1085 - accuracy: 0.9672 - val_loss: 1.8185 - val_accuracy: 0.6796\n",
            "Epoch 96/100\n",
            "80/80 [==============================] - 2s 26ms/step - loss: 0.0544 - accuracy: 0.9823 - val_loss: 0.4907 - val_accuracy: 0.9012\n",
            "Epoch 97/100\n",
            "80/80 [==============================] - 2s 25ms/step - loss: 0.0537 - accuracy: 0.9811 - val_loss: 0.7311 - val_accuracy: 0.8433\n",
            "Epoch 98/100\n",
            "80/80 [==============================] - 2s 26ms/step - loss: 0.0443 - accuracy: 0.9836 - val_loss: 0.8844 - val_accuracy: 0.8234\n",
            "Epoch 99/100\n",
            "80/80 [==============================] - 2s 26ms/step - loss: 0.0339 - accuracy: 0.9891 - val_loss: 0.4444 - val_accuracy: 0.9042\n",
            "Epoch 100/100\n",
            "80/80 [==============================] - 2s 26ms/step - loss: 0.0249 - accuracy: 0.9914 - val_loss: 0.9423 - val_accuracy: 0.8273\n"
          ]
        }
      ],
      "source": [
        "datagen.fit(X_train)\n",
        "history = model.fit_generator(datagen.flow(X_train,Y_train, batch_size=batch_size),\n",
        "                              epochs = epochs, validation_data = (X_val,Y_val),\n",
        "                              steps_per_epoch = X_train.shape[0] // batch_size) "
      ]
    },
    {
      "cell_type": "code",
      "source": [
        "plt.plot(history.history[\"loss\"],c = \"purple\")\n",
        "plt.plot(history.history[\"val_loss\"],c = \"orange\")\n",
        "plt.title(\"Loss\")\n",
        "plt.ylabel(\"Loss\")\n",
        "plt.xlabel(\"Epochs\")\n",
        "plt.legend([\"train\", \"Val\"])\n",
        "plt.show()"
      ],
      "metadata": {
        "id": "dZ-9dfCU3M7f",
        "colab": {
          "base_uri": "https://localhost:8080/",
          "height": 295
        },
        "outputId": "14596de0-8106-417a-974f-ad96dd6bd0ba"
      },
      "execution_count": 23,
      "outputs": [
        {
          "output_type": "display_data",
          "data": {
            "text/plain": [
              "<Figure size 432x288 with 1 Axes>"
            ],
            "image/png": "[encoded data removed]"
          },
          "metadata": {
            "needs_background": "light"
          }
        }
      ]
    },
    {
      "cell_type": "code",
      "source": [
        "plt.plot(history.history[\"accuracy\"],c = \"purple\")\n",
        "plt.plot(history.history[\"val_accuracy\"],c = \"orange\")\n",
        "plt.title(\"Accuracy\")\n",
        "plt.ylabel(\"Accuracy\")\n",
        "plt.xlabel(\"Epochs\")\n",
        "plt.legend([\"train\", \"Val\"])\n",
        "plt.show()"
      ],
      "metadata": {
        "id": "RoFEcTp93Z7m",
        "colab": {
          "base_uri": "https://localhost:8080/",
          "height": 295
        },
        "outputId": "5cbf5835-5d36-4040-9ba9-b2b236802070"
      },
      "execution_count": 24,
      "outputs": [
        {
          "output_type": "display_data",
          "data": {
            "text/plain": [
              "<Figure size 432x288 with 1 Axes>"
            ],
            "image/png": "[encoded data removed]"
          },
          "metadata": {
            "needs_background": "light"
          }
        }
      ]
    },
    {
      "cell_type": "code",
      "source": [
        "model.save('/content/gdrive/MyDrive/ENPM809K/5layer60_w4.h5')\n"
      ],
      "metadata": {
        "id": "vOay3Aj531R5"
      },
      "execution_count": 25,
      "outputs": []
    },
    {
      "cell_type": "code",
      "source": [
        "import tensorflow as tf\n",
        "import numpy as np\n",
        "\n",
        "# load the model from the .h5 file\n",
        "model = tf.keras.models.load_model('/content/gdrive/MyDrive/ENPM809K/5layer60_w3.h5')\n",
        "\n",
        "# load the test dataset\n",
        "test_data = Xce #np.load('test_data.npy')\n",
        "test_labels = yce#np.load('test_labels.npy')\n",
        "print(test_data.shape)\n",
        "eval= model.evaluate(test_data, test_labels)[1]\n",
        "# make predictions on the test dataset\n",
        "predictions = model.predict(test_data)\n",
        "\n",
        "# evaluate the model's performance\n",
        "accuracy = tf.keras.metrics.Accuracy()\n",
        "accuracy.update_state(test_labels, predictions)\n",
        "# print('Accuracy: %.2f' % accuracy.result().numpy())\n",
        "print(eval,\"eval\")\n",
        "\n"
      ],
      "metadata": {
        "id": "1LHky1kO31MB",
        "colab": {
          "base_uri": "https://localhost:8080/",
          "height": 0
        },
        "outputId": "e9aa9335-c8bb-4977-e573-80891769418c"
      },
      "execution_count": 356,
      "outputs": [
        {
          "output_type": "stream",
          "name": "stdout",
          "text": [
            "(1251, 150, 150, 1)\n",
            "40/40 [==============================] - 1s 6ms/step - loss: 1.2760 - accuracy: 0.7698\n",
            "40/40 [==============================] - 0s 5ms/step\n",
            "0.769784152507782 eval\n"
          ]
        }
      ]
    },
    {
      "cell_type": "code",
      "source": [
        "plt.plot(history.history[\"loss\"],c = \"red\")\n",
        "plt.plot(history.history[\"val_loss\"],c = \"blue\")\n",
        "plt.title(\"Loss\")\n",
        "plt.ylabel(\"Loss\")\n",
        "plt.xlabel(\"Epochs\")\n",
        "plt.legend([\"train\", \"Val\"])\n",
        "plt.show()"
      ],
      "metadata": {
        "colab": {
          "base_uri": "https://localhost:8080/",
          "height": 295
        },
        "id": "tOyZmfXzgMS2",
        "outputId": "1bec7825-6fc2-4cde-9d63-fa26bfeae48f"
      },
      "execution_count": 353,
      "outputs": [
        {
          "output_type": "display_data",
          "data": {
            "text/plain": [
              "<Figure size 432x288 with 1 Axes>"
            ],
            "image/png": "[encoded data removed]"
          },
          "metadata": {
            "needs_background": "light"
          }
        }
      ]
    },
    {
      "cell_type": "markdown",
      "source": [
        "**CNN TRAIN VALIDATION LOSS AND ACCURACY**"
      ],
      "metadata": {
        "id": "JKEObuIPbGz3"
      }
    },
    {
      "cell_type": "code",
      "source": [
        "plt.plot(history.history[\"accuracy\"],c = \"red\")\n",
        "plt.plot(history.history[\"val_accuracy\"],c = \"blue\")\n",
        "plt.title(\"Accuracy\")\n",
        "plt.ylabel(\"Accuracy\")\n",
        "plt.xlabel(\"Epochs\")\n",
        "plt.legend([\"train\", \"Val\"])\n",
        "plt.show()"
      ],
      "metadata": {
        "colab": {
          "base_uri": "https://localhost:8080/",
          "height": 295
        },
        "id": "cOMT8aqHgCxI",
        "outputId": "413dab50-c2bf-4519-c000-d5031c2d105f"
      },
      "execution_count": 352,
      "outputs": [
        {
          "output_type": "display_data",
          "data": {
            "text/plain": [
              "<Figure size 432x288 with 1 Axes>"
            ],
            "image/png": "[encoded data removed]"
          },
          "metadata": {
            "needs_background": "light"
          }
        }
      ]
    },
    {
      "cell_type": "code",
      "execution_count": 29,
      "metadata": {
        "id": "rXgkfq3k0WDk"
      },
      "outputs": [],
      "source": [
        "#Saving weights\n",
        "model.save_weights('/content/gdrive/MyDrive/ENPM809K/5layer60_weightsw4.h5')"
      ]
    },
    {
      "cell_type": "code",
      "execution_count": 30,
      "metadata": {
        "id": "KEqWrFvO0WDk"
      },
      "outputs": [],
      "source": [
        "def my_custom_func():\n",
        "    # your code\n",
        "    return\n",
        "from keras.models import load_model\n",
        "model = load_model('/content/gdrive/MyDrive/ENPM809K/5layer60_w4.h5', custom_objects={'my_custom_func':                   \n",
        "my_custom_func})"
      ]
    },
    {
      "cell_type": "code",
      "execution_count": 31,
      "metadata": {
        "id": "o_-yPifX0WDl"
      },
      "outputs": [],
      "source": [
        "import numpy as np\n",
        "import matplotlib.pyplot as plt \n",
        "from keras.layers import Flatten, Dense \n",
        "from keras.models import Model, load_model \n",
        "from keras.applications.mobilenet import MobileNet"
      ]
    },
    {
      "cell_type": "markdown",
      "source": [
        "# **MOBILENET**"
      ],
      "metadata": {
        "id": "Uls1dIRUab7X"
      }
    },
    {
      "cell_type": "code",
      "execution_count": 32,
      "metadata": {
        "id": "YWODm6C20WDl",
        "colab": {
          "base_uri": "https://localhost:8080/",
          "height": 0
        },
        "outputId": "e660666b-5f7a-4218-e536-6f728256be92"
      },
      "outputs": [
        {
          "output_type": "stream",
          "name": "stderr",
          "text": [
            "WARNING:tensorflow:`input_shape` is undefined or non-square, or `rows` is not in [128, 160, 192, 224]. Weights for input shape (224, 224) will be loaded as the default.\n"
          ]
        },
        {
          "output_type": "stream",
          "name": "stdout",
          "text": [
            "Downloading data from https://storage.googleapis.com/tensorflow/keras-applications/mobilenet/mobilenet_1_0_224_tf_no_top.h5\n",
            "17225924/17225924 [==============================] - 2s 0us/step\n"
          ]
        }
      ],
      "source": [
        "model_res =MobileNet(input_shape= (150,150,3),include_top=False)\n",
        "model.load_weights('/content/gdrive/MyDrive/ENPM809K/5layer60_weightsw4.h5')"
      ]
    },
    {
      "cell_type": "code",
      "execution_count": 33,
      "metadata": {
        "id": "UIWCgD-Q0WDl"
      },
      "outputs": [],
      "source": [
        "for layer in model_res.layers:\n",
        "  layer.trainable = False\n",
        "X = Flatten () (model.output)\n",
        "X = Dense(units=1 , activation= 'sigmoid') (X)\n",
        "model1= Model(model.input, X)"
      ]
    },
    {
      "cell_type": "code",
      "execution_count": 49,
      "metadata": {
        "id": "MQ6UGPRA0WDl"
      },
      "outputs": [],
      "source": [
        "import keras\n",
        "optimizer = Adam(learning_rate=0.05, beta_1=0.9, beta_2=0.999)\n",
        "model_res.compile(optimizer=optimizer,loss='categorical_crossentropy',metrics=['Accuracy'])"
      ]
    },
    {
      "cell_type": "code",
      "execution_count": 50,
      "metadata": {
        "id": "rYtzzq0q0WDl"
      },
      "outputs": [],
      "source": [
        "model_res.compile()\n",
        "epochs = 60  \n",
        "batch_size = 40"
      ]
    },
    {
      "cell_type": "code",
      "execution_count": 52,
      "metadata": {
        "id": "1FXuaZCJ0WDl",
        "colab": {
          "base_uri": "https://localhost:8080/",
          "height": 0
        },
        "outputId": "e3e5b2f1-4034-48e1-95e7-b64c92efd9d8"
      },
      "outputs": [
        {
          "output_type": "stream",
          "name": "stdout",
          "text": [
            "Epoch 1/80\n"
          ]
        },
        {
          "output_type": "stream",
          "name": "stderr",
          "text": [
            "<ipython-input-52-841adf630f24>:1: UserWarning:\n",
            "\n",
            "`Model.fit_generator` is deprecated and will be removed in a future version. Please use `Model.fit`, which supports generators.\n",
            "\n"
          ]
        },
        {
          "output_type": "stream",
          "name": "stdout",
          "text": [
            "100/100 [==============================] - 3s 18ms/step - loss: 0.0251 - accuracy: 0.9915 - val_loss: 0.4857 - val_accuracy: 0.9162\n",
            "Epoch 2/80\n",
            "100/100 [==============================] - 2s 17ms/step - loss: 0.0459 - accuracy: 0.9849 - val_loss: 0.6937 - val_accuracy: 0.8713\n",
            "Epoch 3/80\n",
            "100/100 [==============================] - 2s 17ms/step - loss: 0.0466 - accuracy: 0.9849 - val_loss: 0.7859 - val_accuracy: 0.8234\n",
            "Epoch 4/80\n",
            "100/100 [==============================] - 2s 17ms/step - loss: 0.0317 - accuracy: 0.9906 - val_loss: 0.4034 - val_accuracy: 0.9242\n",
            "Epoch 5/80\n",
            "100/100 [==============================] - 2s 17ms/step - loss: 0.0187 - accuracy: 0.9918 - val_loss: 0.4252 - val_accuracy: 0.9092\n",
            "Epoch 6/80\n",
            "100/100 [==============================] - 2s 17ms/step - loss: 0.0254 - accuracy: 0.9912 - val_loss: 0.6391 - val_accuracy: 0.8643\n",
            "Epoch 7/80\n",
            "100/100 [==============================] - 2s 17ms/step - loss: 0.0224 - accuracy: 0.9928 - val_loss: 0.5834 - val_accuracy: 0.8832\n",
            "Epoch 8/80\n",
            "100/100 [==============================] - 2s 17ms/step - loss: 0.0187 - accuracy: 0.9937 - val_loss: 0.7786 - val_accuracy: 0.8553\n",
            "Epoch 9/80\n",
            "100/100 [==============================] - 2s 17ms/step - loss: 0.0261 - accuracy: 0.9912 - val_loss: 0.8277 - val_accuracy: 0.8353\n",
            "Epoch 10/80\n",
            "100/100 [==============================] - 2s 17ms/step - loss: 0.0172 - accuracy: 0.9943 - val_loss: 0.4701 - val_accuracy: 0.9132\n",
            "Epoch 11/80\n",
            "100/100 [==============================] - 2s 17ms/step - loss: 0.0452 - accuracy: 0.9852 - val_loss: 0.7685 - val_accuracy: 0.8583\n",
            "Epoch 12/80\n",
            "100/100 [==============================] - 2s 17ms/step - loss: 0.0181 - accuracy: 0.9950 - val_loss: 0.6483 - val_accuracy: 0.8673\n",
            "Epoch 13/80\n",
            "100/100 [==============================] - 2s 17ms/step - loss: 0.0162 - accuracy: 0.9950 - val_loss: 0.5299 - val_accuracy: 0.8912\n",
            "Epoch 14/80\n",
            "100/100 [==============================] - 2s 17ms/step - loss: 0.0146 - accuracy: 0.9956 - val_loss: 0.4396 - val_accuracy: 0.9261\n",
            "Epoch 15/80\n",
            "100/100 [==============================] - 2s 17ms/step - loss: 0.0253 - accuracy: 0.9912 - val_loss: 0.4860 - val_accuracy: 0.9162\n",
            "Epoch 16/80\n",
            "100/100 [==============================] - 2s 17ms/step - loss: 0.0305 - accuracy: 0.9902 - val_loss: 0.9493 - val_accuracy: 0.8553\n",
            "Epoch 17/80\n",
            "100/100 [==============================] - 2s 17ms/step - loss: 0.0152 - accuracy: 0.9943 - val_loss: 0.4740 - val_accuracy: 0.9132\n",
            "Epoch 18/80\n",
            "100/100 [==============================] - 2s 17ms/step - loss: 0.0082 - accuracy: 0.9975 - val_loss: 0.7255 - val_accuracy: 0.8613\n",
            "Epoch 19/80\n",
            "100/100 [==============================] - 2s 17ms/step - loss: 0.0105 - accuracy: 0.9953 - val_loss: 1.3295 - val_accuracy: 0.7635\n",
            "Epoch 20/80\n",
            "100/100 [==============================] - 2s 17ms/step - loss: 0.0154 - accuracy: 0.9962 - val_loss: 0.8004 - val_accuracy: 0.8583\n",
            "Epoch 21/80\n",
            "100/100 [==============================] - 2s 17ms/step - loss: 0.0048 - accuracy: 0.9991 - val_loss: 0.3387 - val_accuracy: 0.9381\n",
            "Epoch 22/80\n",
            "100/100 [==============================] - 2s 17ms/step - loss: 0.0194 - accuracy: 0.9940 - val_loss: 0.5140 - val_accuracy: 0.9132\n",
            "Epoch 23/80\n",
            "100/100 [==============================] - 2s 17ms/step - loss: 0.0288 - accuracy: 0.9896 - val_loss: 1.2189 - val_accuracy: 0.8463\n",
            "Epoch 24/80\n",
            "100/100 [==============================] - 2s 18ms/step - loss: 0.0259 - accuracy: 0.9897 - val_loss: 0.6518 - val_accuracy: 0.8962\n",
            "Epoch 25/80\n",
            "100/100 [==============================] - 2s 18ms/step - loss: 0.0210 - accuracy: 0.9934 - val_loss: 1.5808 - val_accuracy: 0.7066\n",
            "Epoch 26/80\n",
            "100/100 [==============================] - 2s 17ms/step - loss: 0.0197 - accuracy: 0.9937 - val_loss: 0.5815 - val_accuracy: 0.8892\n",
            "Epoch 27/80\n",
            "100/100 [==============================] - 2s 17ms/step - loss: 0.0278 - accuracy: 0.9924 - val_loss: 0.6280 - val_accuracy: 0.8623\n",
            "Epoch 28/80\n",
            "100/100 [==============================] - 2s 18ms/step - loss: 0.0144 - accuracy: 0.9947 - val_loss: 0.4588 - val_accuracy: 0.9172\n",
            "Epoch 29/80\n",
            "100/100 [==============================] - 2s 17ms/step - loss: 0.0173 - accuracy: 0.9943 - val_loss: 0.8831 - val_accuracy: 0.8653\n",
            "Epoch 30/80\n",
            "100/100 [==============================] - 2s 17ms/step - loss: 0.0453 - accuracy: 0.9880 - val_loss: 0.4421 - val_accuracy: 0.9271\n",
            "Epoch 31/80\n",
            "100/100 [==============================] - 2s 17ms/step - loss: 0.0283 - accuracy: 0.9906 - val_loss: 0.6387 - val_accuracy: 0.8882\n",
            "Epoch 32/80\n",
            "100/100 [==============================] - 2s 17ms/step - loss: 0.0312 - accuracy: 0.9897 - val_loss: 0.4699 - val_accuracy: 0.9202\n",
            "Epoch 33/80\n",
            "100/100 [==============================] - 2s 17ms/step - loss: 0.0324 - accuracy: 0.9906 - val_loss: 2.7272 - val_accuracy: 0.6178\n",
            "Epoch 34/80\n",
            "100/100 [==============================] - 2s 17ms/step - loss: 0.0602 - accuracy: 0.9821 - val_loss: 0.5866 - val_accuracy: 0.8812\n",
            "Epoch 35/80\n",
            "100/100 [==============================] - 2s 17ms/step - loss: 0.0272 - accuracy: 0.9906 - val_loss: 1.5374 - val_accuracy: 0.7585\n",
            "Epoch 36/80\n",
            "100/100 [==============================] - 2s 17ms/step - loss: 0.0187 - accuracy: 0.9921 - val_loss: 0.5052 - val_accuracy: 0.9212\n",
            "Epoch 37/80\n",
            "100/100 [==============================] - 2s 17ms/step - loss: 0.0138 - accuracy: 0.9946 - val_loss: 0.9099 - val_accuracy: 0.8403\n",
            "Epoch 38/80\n",
            "100/100 [==============================] - 2s 17ms/step - loss: 0.0166 - accuracy: 0.9937 - val_loss: 1.2133 - val_accuracy: 0.7675\n",
            "Epoch 39/80\n",
            "100/100 [==============================] - 2s 17ms/step - loss: 0.0131 - accuracy: 0.9953 - val_loss: 0.6780 - val_accuracy: 0.8513\n",
            "Epoch 40/80\n",
            "100/100 [==============================] - 2s 17ms/step - loss: 0.0106 - accuracy: 0.9966 - val_loss: 0.6214 - val_accuracy: 0.8932\n",
            "Epoch 41/80\n",
            "100/100 [==============================] - 2s 17ms/step - loss: 0.0090 - accuracy: 0.9975 - val_loss: 0.5729 - val_accuracy: 0.8892\n",
            "Epoch 42/80\n",
            "100/100 [==============================] - 2s 17ms/step - loss: 0.0085 - accuracy: 0.9975 - val_loss: 0.5409 - val_accuracy: 0.8972\n",
            "Epoch 43/80\n",
            "100/100 [==============================] - 2s 17ms/step - loss: 0.0236 - accuracy: 0.9931 - val_loss: 0.7059 - val_accuracy: 0.8413\n",
            "Epoch 44/80\n",
            "100/100 [==============================] - 2s 17ms/step - loss: 0.0143 - accuracy: 0.9956 - val_loss: 0.6273 - val_accuracy: 0.8713\n",
            "Epoch 45/80\n",
            "100/100 [==============================] - 2s 17ms/step - loss: 0.0161 - accuracy: 0.9934 - val_loss: 0.7539 - val_accuracy: 0.8593\n",
            "Epoch 46/80\n",
            "100/100 [==============================] - 2s 17ms/step - loss: 0.0431 - accuracy: 0.9858 - val_loss: 1.4607 - val_accuracy: 0.7236\n",
            "Epoch 47/80\n",
            "100/100 [==============================] - 2s 17ms/step - loss: 0.0169 - accuracy: 0.9931 - val_loss: 0.6883 - val_accuracy: 0.8752\n",
            "Epoch 48/80\n",
            "100/100 [==============================] - 2s 17ms/step - loss: 0.0285 - accuracy: 0.9903 - val_loss: 0.5173 - val_accuracy: 0.9112\n",
            "Epoch 49/80\n",
            "100/100 [==============================] - 2s 17ms/step - loss: 0.0312 - accuracy: 0.9912 - val_loss: 1.7778 - val_accuracy: 0.7106\n",
            "Epoch 50/80\n",
            "100/100 [==============================] - 2s 17ms/step - loss: 0.0328 - accuracy: 0.9909 - val_loss: 1.6468 - val_accuracy: 0.7106\n",
            "Epoch 51/80\n",
            "100/100 [==============================] - 2s 17ms/step - loss: 0.0212 - accuracy: 0.9940 - val_loss: 0.3808 - val_accuracy: 0.9212\n",
            "Epoch 52/80\n",
            "100/100 [==============================] - 2s 17ms/step - loss: 0.0313 - accuracy: 0.9918 - val_loss: 1.1985 - val_accuracy: 0.7764\n",
            "Epoch 53/80\n",
            "100/100 [==============================] - 2s 17ms/step - loss: 0.0120 - accuracy: 0.9959 - val_loss: 0.4089 - val_accuracy: 0.9251\n",
            "Epoch 54/80\n",
            "100/100 [==============================] - 2s 17ms/step - loss: 0.0072 - accuracy: 0.9969 - val_loss: 0.4645 - val_accuracy: 0.9192\n",
            "Epoch 55/80\n",
            "100/100 [==============================] - 2s 17ms/step - loss: 0.0243 - accuracy: 0.9906 - val_loss: 0.6009 - val_accuracy: 0.8743\n",
            "Epoch 56/80\n",
            "100/100 [==============================] - 2s 17ms/step - loss: 0.0274 - accuracy: 0.9940 - val_loss: 0.5702 - val_accuracy: 0.8802\n",
            "Epoch 57/80\n",
            "100/100 [==============================] - 2s 17ms/step - loss: 0.0206 - accuracy: 0.9921 - val_loss: 0.6982 - val_accuracy: 0.8982\n",
            "Epoch 58/80\n",
            "100/100 [==============================] - 2s 17ms/step - loss: 0.0140 - accuracy: 0.9946 - val_loss: 0.4597 - val_accuracy: 0.9122\n",
            "Epoch 59/80\n",
            "100/100 [==============================] - 2s 17ms/step - loss: 0.0176 - accuracy: 0.9953 - val_loss: 0.6849 - val_accuracy: 0.8862\n",
            "Epoch 60/80\n",
            "100/100 [==============================] - 2s 17ms/step - loss: 0.0112 - accuracy: 0.9959 - val_loss: 0.4346 - val_accuracy: 0.9162\n",
            "Epoch 61/80\n",
            "100/100 [==============================] - 2s 17ms/step - loss: 0.0156 - accuracy: 0.9953 - val_loss: 0.7155 - val_accuracy: 0.8872\n",
            "Epoch 62/80\n",
            "100/100 [==============================] - 2s 17ms/step - loss: 0.0089 - accuracy: 0.9975 - val_loss: 1.0373 - val_accuracy: 0.8433\n",
            "Epoch 63/80\n",
            "100/100 [==============================] - 2s 17ms/step - loss: 0.0111 - accuracy: 0.9959 - val_loss: 0.4959 - val_accuracy: 0.9232\n",
            "Epoch 64/80\n",
            "100/100 [==============================] - 2s 17ms/step - loss: 0.0208 - accuracy: 0.9928 - val_loss: 0.6395 - val_accuracy: 0.9012\n",
            "Epoch 65/80\n",
            "100/100 [==============================] - 2s 17ms/step - loss: 0.0273 - accuracy: 0.9906 - val_loss: 0.7119 - val_accuracy: 0.8563\n",
            "Epoch 66/80\n",
            "100/100 [==============================] - 2s 17ms/step - loss: 0.0262 - accuracy: 0.9918 - val_loss: 0.5326 - val_accuracy: 0.9162\n",
            "Epoch 67/80\n",
            "100/100 [==============================] - 2s 17ms/step - loss: 0.0373 - accuracy: 0.9874 - val_loss: 0.5783 - val_accuracy: 0.8962\n",
            "Epoch 68/80\n",
            "100/100 [==============================] - 2s 17ms/step - loss: 0.0238 - accuracy: 0.9906 - val_loss: 0.9026 - val_accuracy: 0.8503\n",
            "Epoch 69/80\n",
            "100/100 [==============================] - 2s 17ms/step - loss: 0.0293 - accuracy: 0.9896 - val_loss: 0.6661 - val_accuracy: 0.8802\n",
            "Epoch 70/80\n",
            "100/100 [==============================] - 2s 17ms/step - loss: 0.0173 - accuracy: 0.9937 - val_loss: 0.4305 - val_accuracy: 0.9291\n",
            "Epoch 71/80\n",
            "100/100 [==============================] - 2s 17ms/step - loss: 0.0339 - accuracy: 0.9899 - val_loss: 0.8881 - val_accuracy: 0.8743\n",
            "Epoch 72/80\n",
            "100/100 [==============================] - 2s 17ms/step - loss: 0.0160 - accuracy: 0.9937 - val_loss: 0.5316 - val_accuracy: 0.9172\n",
            "Epoch 73/80\n",
            "100/100 [==============================] - 2s 17ms/step - loss: 0.0141 - accuracy: 0.9956 - val_loss: 0.4699 - val_accuracy: 0.9162\n",
            "Epoch 74/80\n",
            "100/100 [==============================] - 2s 17ms/step - loss: 0.0201 - accuracy: 0.9931 - val_loss: 0.6112 - val_accuracy: 0.8802\n",
            "Epoch 75/80\n",
            "100/100 [==============================] - 2s 17ms/step - loss: 0.0103 - accuracy: 0.9962 - val_loss: 0.6205 - val_accuracy: 0.8992\n",
            "Epoch 76/80\n",
            "100/100 [==============================] - 2s 17ms/step - loss: 0.0072 - accuracy: 0.9975 - val_loss: 0.3929 - val_accuracy: 0.9371\n",
            "Epoch 77/80\n",
            "100/100 [==============================] - 2s 17ms/step - loss: 0.0106 - accuracy: 0.9956 - val_loss: 0.5345 - val_accuracy: 0.9172\n",
            "Epoch 78/80\n",
            "100/100 [==============================] - 2s 17ms/step - loss: 0.0096 - accuracy: 0.9972 - val_loss: 0.6054 - val_accuracy: 0.9072\n",
            "Epoch 79/80\n",
            "100/100 [==============================] - 2s 17ms/step - loss: 0.0205 - accuracy: 0.9950 - val_loss: 1.0512 - val_accuracy: 0.8144\n",
            "Epoch 80/80\n",
            "100/100 [==============================] - 2s 17ms/step - loss: 0.0104 - accuracy: 0.9972 - val_loss: 0.4210 - val_accuracy: 0.9371\n"
          ]
        }
      ],
      "source": [
        "hist = model.fit_generator(datagen.flow(X_train,Y_train),steps_per_epoch=X_train.shape[0] // batch_size,epochs =80,validation_data = (X_val,Y_val),validation_steps=10)"
      ]
    },
    {
      "cell_type": "code",
      "source": [
        "plt.plot(hist.history[\"loss\"],c = \"purple\")\n",
        "plt.plot(hist.history[\"val_loss\"],c = \"orange\")\n",
        "plt.title(\"Loss\")\n",
        "plt.ylabel(\"Loss\")\n",
        "plt.xlabel(\"Epochs\")\n",
        "plt.legend([\"train\", \"Val\"])\n",
        "plt.show()"
      ],
      "metadata": {
        "colab": {
          "base_uri": "https://localhost:8080/",
          "height": 295
        },
        "id": "7I54J6t7s72r",
        "outputId": "1ee7ad31-0ff2-4b42-8605-2b6f03b648c1"
      },
      "execution_count": 53,
      "outputs": [
        {
          "output_type": "display_data",
          "data": {
            "text/plain": [
              "<Figure size 432x288 with 1 Axes>"
            ],
            "image/png": "[encoded data removed]"
          },
          "metadata": {
            "needs_background": "light"
          }
        }
      ]
    },
    {
      "cell_type": "code",
      "source": [
        "plt.plot(hist.history[\"accuracy\"],c = \"purple\")\n",
        "plt.plot(hist.history[\"val_accuracy\"],c = \"orange\")\n",
        "plt.title(\"Accuracy\")\n",
        "plt.ylabel(\"Accuracy\")\n",
        "plt.xlabel(\"Epochs\")\n",
        "plt.legend([\"train\", \"val\"])\n",
        "plt.show()"
      ],
      "metadata": {
        "colab": {
          "base_uri": "https://localhost:8080/",
          "height": 295
        },
        "id": "ZLGoGvfhtB-u",
        "outputId": "f9542676-d27a-4920-a395-ccdd67517544"
      },
      "execution_count": 54,
      "outputs": [
        {
          "output_type": "display_data",
          "data": {
            "text/plain": [
              "<Figure size 432x288 with 1 Axes>"
            ],
            "image/png": "[encoded data removed]"
          },
          "metadata": {
            "needs_background": "light"
          }
        }
      ]
    },
    {
      "cell_type": "code",
      "execution_count": 55,
      "metadata": {
        "id": "g44Wh6nF0WDl"
      },
      "outputs": [],
      "source": [
        "model.save('/content/gdrive/MyDrive/ENPM809K/mobilenetw3.h5') #saving mobilenet weights"
      ]
    },
    {
      "cell_type": "code",
      "execution_count": 56,
      "metadata": {
        "id": "pRQT5FLL0WDl"
      },
      "outputs": [],
      "source": [
        "from keras import models    \n",
        "m1=models.load_model('/content/gdrive/MyDrive/ENPM809K/mobilenetw3.h5')"
      ]
    },
    {
      "cell_type": "code",
      "execution_count": 57,
      "metadata": {
        "id": "SvGSgStW0WDm",
        "colab": {
          "base_uri": "https://localhost:8080/",
          "height": 0
        },
        "outputId": "1b6a3888-c727-44d4-9f3b-c3c4d2ba1a4b"
      },
      "outputs": [
        {
          "output_type": "stream",
          "name": "stdout",
          "text": [
            "(1251, 150, 150, 1)\n",
            "(1251, 4)\n",
            "40/40 [==============================] - 0s 6ms/step - loss: 1.7458 - accuracy: 0.7898\n",
            "40/40 [==============================] - 0s 5ms/step\n",
            "[1.74580979347229, 0.7897681593894958] eval\n"
          ]
        }
      ],
      "source": [
        "import tensorflow as tf\n",
        "import numpy as np\n",
        "\n",
        "# load the model from the .h5 file\n",
        "model = tf.keras.models.load_model('/content/gdrive/MyDrive/ENPM809K/mobilenetw3.h5')\n",
        "\n",
        "# load the test dataset\n",
        "test_data = Xce #np.load('test_data.npy')\n",
        "test_labels = yce#np.load('test_labels.npy')\n",
        "print(test_data.shape)\n",
        "print(test_labels.shape)\n",
        "eval= model.evaluate(test_data, test_labels)\n",
        "# make predictions on the test dataset\n",
        "predictions = model.predict(test_data)\n",
        "\n",
        "# evaluate the model's performance\n",
        "accuracy = tf.keras.metrics.Accuracy()\n",
        "accuracy.update_state(test_labels, predictions)\n",
        "# print('Accuracy: %.2f' % accuracy.result().numpy())\n",
        "print(eval,\"eval\")\n",
        "\n",
        "\n"
      ]
    },
    {
      "cell_type": "markdown",
      "source": [
        "# **TESTING**"
      ],
      "metadata": {
        "id": "ef2D-BA-aRCb"
      }
    },
    {
      "cell_type": "code",
      "source": [
        "from keras.utils import load_img,img_to_array,array_to_img\n",
        "import cv2\n",
        "\n",
        "classnames=testds.class_names\n",
        "print(classnames)\n",
        "pred=model.predict(Xce[1091:1092])\n",
        "print(pred)\n",
        "oc=classnames[np.argmax(pred)]\n",
        "print(oc)\n",
        "from keras.utils import load_img,img_to_array,array_to_img\n",
        "\n",
        "im=array_to_img(Xce[1092])\n",
        "plt.imshow(im,cmap='gray_r')"
      ],
      "metadata": {
        "id": "rkWolFI0STaD",
        "colab": {
          "base_uri": "https://localhost:8080/",
          "height": 356
        },
        "outputId": "c3f5da27-da96-4f15-db7a-3adea5f896b6"
      },
      "execution_count": 60,
      "outputs": [
        {
          "output_type": "stream",
          "name": "stdout",
          "text": [
            "['glioma_tumor', 'meningioma_tumor', 'no_tumor', 'pituitary_tumor']\n",
            "1/1 [==============================] - 0s 21ms/step\n",
            "[[3.63864550e-10 1.06958926e-01 7.51836851e-08 8.93040955e-01]]\n",
            "pituitary_tumor\n"
          ]
        },
        {
          "output_type": "execute_result",
          "data": {
            "text/plain": [
              "<matplotlib.image.AxesImage at 0x7f63f33c1b50>"
            ]
          },
          "metadata": {},
          "execution_count": 60
        },
        {
          "output_type": "display_data",
          "data": {
            "text/plain": [
              "<Figure size 432x288 with 1 Axes>"
            ],
            "image/png": "[encoded data removed]"
          },
          "metadata": {
            "needs_background": "light"
          }
        }
      ]
    },
    {
      "cell_type": "code",
      "execution_count": 1,
      "metadata": {
        "id": "OTM5kukfU7vg"
      },
      "outputs": [],
      "source": [
        "from sklearn.metrics import multilabel_confusion_matrix, classification_report, confusion_matrix"
      ]
    },
    {
      "cell_type": "code",
      "execution_count": 2,
      "metadata": {
        "id": "Y9oSVtVgU-QC"
      },
      "outputs": [],
      "source": [
        "import seaborn as sns"
      ]
    },
    {
      "cell_type": "code",
      "execution_count": 3,
      "metadata": {
        "id": "3vvOl-MDVAEc",
        "colab": {
          "base_uri": "https://localhost:8080/",
          "height": 235
        },
        "outputId": "9181edfd-dc60-4f2a-cacf-dc31fbfbc5cf"
      },
      "outputs": [
        {
          "output_type": "error",
          "ename": "NameError",
          "evalue": "ignored",
          "traceback": [
            "\u001b[0;31m---------------------------------------------------------------------------\u001b[0m",
            "\u001b[0;31mNameError\u001b[0m                                 Traceback (most recent call last)",
            "\u001b[0;32m<ipython-input-3-3553bd1c3ae3>\u001b[0m in \u001b[0;36m<module>\u001b[0;34m\u001b[0m\n\u001b[0;32m----> 1\u001b[0;31m \u001b[0my_test_arg\u001b[0m\u001b[0;34m=\u001b[0m\u001b[0mnp\u001b[0m\u001b[0;34m.\u001b[0m\u001b[0margmax\u001b[0m\u001b[0;34m(\u001b[0m\u001b[0mY_val\u001b[0m\u001b[0;34m,\u001b[0m\u001b[0maxis\u001b[0m\u001b[0;34m=\u001b[0m\u001b[0;36m1\u001b[0m\u001b[0;34m)\u001b[0m\u001b[0;34m\u001b[0m\u001b[0;34m\u001b[0m\u001b[0m\n\u001b[0m\u001b[1;32m      2\u001b[0m \u001b[0mY_pred\u001b[0m \u001b[0;34m=\u001b[0m \u001b[0mnp\u001b[0m\u001b[0;34m.\u001b[0m\u001b[0margmax\u001b[0m\u001b[0;34m(\u001b[0m\u001b[0mmodel\u001b[0m\u001b[0;34m.\u001b[0m\u001b[0mpredict\u001b[0m\u001b[0;34m(\u001b[0m\u001b[0mX_val\u001b[0m\u001b[0;34m)\u001b[0m\u001b[0;34m,\u001b[0m\u001b[0maxis\u001b[0m\u001b[0;34m=\u001b[0m\u001b[0;36m1\u001b[0m\u001b[0;34m)\u001b[0m\u001b[0;34m\u001b[0m\u001b[0;34m\u001b[0m\u001b[0m\n\u001b[1;32m      3\u001b[0m \u001b[0mprint\u001b[0m\u001b[0;34m(\u001b[0m\u001b[0;34m'Confusion Matrix'\u001b[0m\u001b[0;34m)\u001b[0m\u001b[0;34m\u001b[0m\u001b[0;34m\u001b[0m\u001b[0m\n\u001b[1;32m      4\u001b[0m \u001b[0mcm\u001b[0m \u001b[0;34m=\u001b[0m \u001b[0mconfusion_matrix\u001b[0m\u001b[0;34m(\u001b[0m\u001b[0my_test_arg\u001b[0m\u001b[0;34m,\u001b[0m \u001b[0mY_pred\u001b[0m\u001b[0;34m)\u001b[0m\u001b[0;34m\u001b[0m\u001b[0;34m\u001b[0m\u001b[0m\n\u001b[1;32m      5\u001b[0m \u001b[0mfig\u001b[0m\u001b[0;34m,\u001b[0m\u001b[0max\u001b[0m\u001b[0;34m=\u001b[0m \u001b[0mplt\u001b[0m\u001b[0;34m.\u001b[0m\u001b[0msubplots\u001b[0m\u001b[0;34m(\u001b[0m\u001b[0mfigsize\u001b[0m\u001b[0;34m=\u001b[0m\u001b[0;34m(\u001b[0m\u001b[0;36m10.2\u001b[0m\u001b[0;34m,\u001b[0m\u001b[0;36m8.1\u001b[0m\u001b[0;34m)\u001b[0m\u001b[0;34m)\u001b[0m\u001b[0;34m\u001b[0m\u001b[0;34m\u001b[0m\u001b[0m\n",
            "\u001b[0;31mNameError\u001b[0m: name 'np' is not defined"
          ]
        }
      ],
      "source": [
        "y_test_arg=np.argmax(Y_val,axis=1)\n",
        "Y_pred = np.argmax(model.predict(X_val),axis=1)\n",
        "print('Confusion Matrix')\n",
        "cm = confusion_matrix(y_test_arg, Y_pred)\n",
        "fig,ax= plt.subplots(figsize=(10.2,8.1))\n",
        "a=sns.color_palette(\"winter_r\")  #_r inverts the palette\n",
        "sns.heatmap(cm, annot=True,fmt='g',linewidths=1,linecolor='white',robust=True,annot_kws={\"size\":18},cmap=a)\n",
        "#annot_kws: settings about annotations\n",
        "ax.xaxis.set_ticklabels(classes); ax.yaxis.set_ticklabels(classes);\n",
        "plt.yticks(va=\"center\")\n",
        "plt.title('Confusion Matrix',fontsize=18,pad=18)\n",
        "plt.xlabel('Actual class',labelpad=22,fontsize=14)\n",
        "plt.ylabel('Predicted class',labelpad=22,fontsize=14)"
      ]
    },
    {
      "cell_type": "code",
      "execution_count": null,
      "metadata": {
        "id": "rmB1_zvUVCYS"
      },
      "outputs": [],
      "source": [
        "predict_x=model.predict(X_val) \n",
        "classes_x=np.argmax(predict_x,axis=1)\n",
        "classes_x"
      ]
    },
    {
      "cell_type": "code",
      "execution_count": null,
      "metadata": {
        "id": "Y2v6fgmOVF9g"
      },
      "outputs": [],
      "source": [
        "Y_val2 = np.argmax(Y_val,axis=1)\n",
        "Y_val2"
      ]
    },
    {
      "cell_type": "code",
      "execution_count": 373,
      "metadata": {
        "id": "I3jdU78rVLdD"
      },
      "outputs": [],
      "source": [
        "from sklearn.metrics import classification_report"
      ]
    },
    {
      "cell_type": "markdown",
      "source": [
        "# **Resnet50**\n"
      ],
      "metadata": {
        "id": "7ea46VNAU3F6"
      }
    },
    {
      "cell_type": "code",
      "source": [
        "def my_custom_func():\n",
        "    return\n",
        "from keras.models import load_model\n",
        "model = load_model('/content/gdrive/MyDrive/ENPM809K/5layer60_w4.h5', custom_objects={'my_custom_func':                   \n",
        "my_custom_func})"
      ],
      "metadata": {
        "id": "fiFELkwsYnBh"
      },
      "execution_count": 139,
      "outputs": []
    },
    {
      "cell_type": "code",
      "source": [
        "print(Xr.shape)  # (64, 224, 224)\n",
        "Xr = np.repeat(Xr[..., np.newaxis], 3,-1)\n",
        "print(Xr.shape)"
      ],
      "metadata": {
        "id": "vTbnRtNwY1eC",
        "colab": {
          "base_uri": "https://localhost:8080/",
          "height": 0
        },
        "outputId": "438660cf-e6cc-48e5-9f9b-35f864a1ac32"
      },
      "execution_count": 65,
      "outputs": [
        {
          "output_type": "stream",
          "name": "stdout",
          "text": [
            "(5010, 150, 150)\n",
            "(5010, 150, 150, 3)\n"
          ]
        }
      ]
    },
    {
      "cell_type": "code",
      "source": [
        "X_y, X_v, Y_y, Y_v = train_test_split(Xr, y, test_size = 0.2, random_state=42)\n",
        "print(\"x_train shape\",X_y.shape)\n",
        "print(\"x_test shape\",X_v.shape)\n",
        "print(\"y_train shape\",Y_y.shape)\n",
        "print(\"y_test shape\",Y_v.shape)"
      ],
      "metadata": {
        "id": "PSPiuQL5ZapI",
        "colab": {
          "base_uri": "https://localhost:8080/",
          "height": 0
        },
        "outputId": "3b6aca82-782c-4dff-c26e-cb8d784bc7d9"
      },
      "execution_count": 66,
      "outputs": [
        {
          "output_type": "stream",
          "name": "stdout",
          "text": [
            "x_train shape (4008, 150, 150, 3)\n",
            "x_test shape (1002, 150, 150, 3)\n",
            "y_train shape (4008, 4)\n",
            "y_test shape (1002, 4)\n"
          ]
        }
      ]
    },
    {
      "cell_type": "code",
      "source": [
        "from keras.applications.resnet import *\n",
        "rest_net=Sequential()\n",
        "ptm=tf.keras.applications.ResNet50(include_top=False,input_shape=(150,150,3),pooling='avg',classes=4)\n",
        "model.load_weights('/content/gdrive/MyDrive/ENPM809K/5layer60_weightsw4.h5')"
      ],
      "metadata": {
        "id": "TE7iARpvUqvo"
      },
      "execution_count": 277,
      "outputs": []
    },
    {
      "cell_type": "code",
      "source": [
        "for layer in model_res.layers:\n",
        "  layer.trainable = False\n",
        "rest_net.add(ptm)\n",
        "rest_net.add(Flatten())\n",
        "rest_net.add(Dense(512,activation='relu'))\n",
        "rest_net.add(Dense(128,activation='relu'))\n",
        "rest_net.add(Dense(4,activation='softmax'))\n"
      ],
      "metadata": {
        "id": "fTIDTYkmWMep"
      },
      "execution_count": 278,
      "outputs": []
    },
    {
      "cell_type": "code",
      "source": [
        "rest_net.summary()"
      ],
      "metadata": {
        "id": "33deeeE1W_c6",
        "colab": {
          "base_uri": "https://localhost:8080/",
          "height": 0
        },
        "outputId": "e46e7c74-edfd-46b2-f8ba-0cd455b4b734"
      },
      "execution_count": 279,
      "outputs": [
        {
          "output_type": "stream",
          "name": "stdout",
          "text": [
            "Model: \"sequential_25\"\n",
            "_________________________________________________________________\n",
            " Layer (type)                Output Shape              Param #   \n",
            "=================================================================\n",
            " resnet50 (Functional)       (None, 2048)              23587712  \n",
            "                                                                 \n",
            " flatten_17 (Flatten)        (None, 2048)              0         \n",
            "                                                                 \n",
            " dense_50 (Dense)            (None, 512)               1049088   \n",
            "                                                                 \n",
            " dense_51 (Dense)            (None, 128)               65664     \n",
            "                                                                 \n",
            " dense_52 (Dense)            (None, 4)                 516       \n",
            "                                                                 \n",
            "=================================================================\n",
            "Total params: 24,702,980\n",
            "Trainable params: 24,649,860\n",
            "Non-trainable params: 53,120\n",
            "_________________________________________________________________\n"
          ]
        }
      ]
    },
    {
      "cell_type": "code",
      "source": [
        "rest_net.compile(optimizer=Adam(lr=0.001,beta_1=0.9, beta_2=0.999),loss='categorical_crossentropy',metrics=['accuracy'])"
      ],
      "metadata": {
        "id": "F8dW6IQXXEzQ",
        "colab": {
          "base_uri": "https://localhost:8080/",
          "height": 0
        },
        "outputId": "0349dcab-8d63-4e9a-b803-2b7ecc28740e"
      },
      "execution_count": 371,
      "outputs": [
        {
          "output_type": "stream",
          "name": "stderr",
          "text": [
            "/usr/local/lib/python3.8/dist-packages/keras/optimizers/optimizer_v2/adam.py:110: UserWarning:\n",
            "\n",
            "The `lr` argument is deprecated, use `learning_rate` instead.\n",
            "\n"
          ]
        }
      ]
    },
    {
      "cell_type": "code",
      "source": [
        "epochs=40\n",
        "batch_size=20\n",
        "his=rest_net.fit(datagen.flow(X_y,Y_y),epochs=epochs,validation_data = (X_v,Y_v),validation_steps=20)"
      ],
      "metadata": {
        "id": "5HWbg79CXaba",
        "colab": {
          "base_uri": "https://localhost:8080/",
          "height": 0
        },
        "outputId": "5c310182-e4c4-4dd1-dc24-71b74fe4c3a9"
      },
      "execution_count": 372,
      "outputs": [
        {
          "output_type": "stream",
          "name": "stdout",
          "text": [
            "Epoch 1/40\n",
            "126/126 [==============================] - 12s 54ms/step - loss: 0.6985 - accuracy: 0.7764 - val_loss: 1.9292 - val_accuracy: 0.5559\n",
            "Epoch 2/40\n",
            "126/126 [==============================] - 6s 46ms/step - loss: 0.3657 - accuracy: 0.8750 - val_loss: 15.7977 - val_accuracy: 0.2745\n",
            "Epoch 3/40\n",
            "126/126 [==============================] - 6s 46ms/step - loss: 0.2893 - accuracy: 0.9017 - val_loss: 0.9103 - val_accuracy: 0.6846\n",
            "Epoch 4/40\n",
            "126/126 [==============================] - 6s 46ms/step - loss: 0.2947 - accuracy: 0.8945 - val_loss: 1.9870 - val_accuracy: 0.4780\n",
            "Epoch 5/40\n",
            "126/126 [==============================] - 6s 46ms/step - loss: 0.2406 - accuracy: 0.9189 - val_loss: 1.5509 - val_accuracy: 0.6208\n",
            "Epoch 6/40\n",
            "126/126 [==============================] - 6s 46ms/step - loss: 0.2029 - accuracy: 0.9324 - val_loss: 0.4916 - val_accuracy: 0.8273\n",
            "Epoch 7/40\n",
            "126/126 [==============================] - 6s 46ms/step - loss: 0.1747 - accuracy: 0.9399 - val_loss: 2.5337 - val_accuracy: 0.6667\n",
            "Epoch 8/40\n",
            "126/126 [==============================] - 6s 46ms/step - loss: 0.1677 - accuracy: 0.9436 - val_loss: 1.0034 - val_accuracy: 0.7096\n",
            "Epoch 9/40\n",
            "126/126 [==============================] - 6s 46ms/step - loss: 0.1336 - accuracy: 0.9536 - val_loss: 1.0131 - val_accuracy: 0.7665\n",
            "Epoch 10/40\n",
            "126/126 [==============================] - 6s 46ms/step - loss: 0.1279 - accuracy: 0.9513 - val_loss: 0.5477 - val_accuracy: 0.8353\n",
            "Epoch 11/40\n",
            "126/126 [==============================] - 6s 46ms/step - loss: 0.1378 - accuracy: 0.9484 - val_loss: 1.3893 - val_accuracy: 0.6457\n",
            "Epoch 12/40\n",
            "126/126 [==============================] - 6s 48ms/step - loss: 0.1050 - accuracy: 0.9656 - val_loss: 2.5182 - val_accuracy: 0.6497\n",
            "Epoch 13/40\n",
            "126/126 [==============================] - 6s 47ms/step - loss: 0.1124 - accuracy: 0.9628 - val_loss: 2.4570 - val_accuracy: 0.5160\n",
            "Epoch 14/40\n",
            "126/126 [==============================] - 6s 47ms/step - loss: 0.1051 - accuracy: 0.9613 - val_loss: 2.8300 - val_accuracy: 0.4162\n",
            "Epoch 15/40\n",
            "126/126 [==============================] - 6s 47ms/step - loss: 0.0620 - accuracy: 0.9790 - val_loss: 1.6098 - val_accuracy: 0.7096\n",
            "Epoch 16/40\n",
            "126/126 [==============================] - 6s 47ms/step - loss: 0.1540 - accuracy: 0.9501 - val_loss: 1.8858 - val_accuracy: 0.5978\n",
            "Epoch 17/40\n",
            "126/126 [==============================] - 6s 48ms/step - loss: 0.1327 - accuracy: 0.9553 - val_loss: 1.0810 - val_accuracy: 0.7495\n",
            "Epoch 18/40\n",
            "126/126 [==============================] - 6s 47ms/step - loss: 0.0921 - accuracy: 0.9686 - val_loss: 0.4834 - val_accuracy: 0.8663\n",
            "Epoch 19/40\n",
            "126/126 [==============================] - 6s 47ms/step - loss: 0.0698 - accuracy: 0.9785 - val_loss: 0.8265 - val_accuracy: 0.8004\n",
            "Epoch 20/40\n",
            "126/126 [==============================] - 6s 48ms/step - loss: 0.0783 - accuracy: 0.9765 - val_loss: 0.7094 - val_accuracy: 0.8473\n",
            "Epoch 21/40\n",
            "126/126 [==============================] - 6s 47ms/step - loss: 0.0481 - accuracy: 0.9808 - val_loss: 1.5701 - val_accuracy: 0.6906\n",
            "Epoch 22/40\n",
            "126/126 [==============================] - 6s 47ms/step - loss: 0.0743 - accuracy: 0.9728 - val_loss: 2.8272 - val_accuracy: 0.6048\n",
            "Epoch 23/40\n",
            "126/126 [==============================] - 6s 46ms/step - loss: 0.0738 - accuracy: 0.9748 - val_loss: 16.3480 - val_accuracy: 0.2794\n",
            "Epoch 24/40\n",
            "126/126 [==============================] - 6s 47ms/step - loss: 0.1630 - accuracy: 0.9434 - val_loss: 2.8285 - val_accuracy: 0.4641\n",
            "Epoch 25/40\n",
            "126/126 [==============================] - 6s 46ms/step - loss: 0.1376 - accuracy: 0.9528 - val_loss: 2.4903 - val_accuracy: 0.5299\n",
            "Epoch 26/40\n",
            "126/126 [==============================] - 6s 46ms/step - loss: 0.0603 - accuracy: 0.9800 - val_loss: 0.3165 - val_accuracy: 0.9182\n",
            "Epoch 27/40\n",
            "126/126 [==============================] - 6s 47ms/step - loss: 0.0604 - accuracy: 0.9798 - val_loss: 1.3092 - val_accuracy: 0.6677\n",
            "Epoch 28/40\n",
            "126/126 [==============================] - 6s 46ms/step - loss: 0.0558 - accuracy: 0.9813 - val_loss: 0.4425 - val_accuracy: 0.8942\n",
            "Epoch 29/40\n",
            "126/126 [==============================] - 6s 46ms/step - loss: 0.0419 - accuracy: 0.9868 - val_loss: 2.8638 - val_accuracy: 0.5549\n",
            "Epoch 30/40\n",
            "126/126 [==============================] - 6s 47ms/step - loss: 0.0331 - accuracy: 0.9895 - val_loss: 0.3719 - val_accuracy: 0.8892\n",
            "Epoch 31/40\n",
            "126/126 [==============================] - 6s 47ms/step - loss: 0.0866 - accuracy: 0.9775 - val_loss: 2.7215 - val_accuracy: 0.4631\n",
            "Epoch 32/40\n",
            "126/126 [==============================] - 6s 47ms/step - loss: 0.0313 - accuracy: 0.9900 - val_loss: 0.2685 - val_accuracy: 0.9331\n",
            "Epoch 33/40\n",
            "126/126 [==============================] - 6s 47ms/step - loss: 0.0548 - accuracy: 0.9838 - val_loss: 0.6423 - val_accuracy: 0.7934\n",
            "Epoch 34/40\n",
            "126/126 [==============================] - 6s 47ms/step - loss: 0.0560 - accuracy: 0.9810 - val_loss: 0.6187 - val_accuracy: 0.8453\n",
            "Epoch 35/40\n",
            "126/126 [==============================] - 6s 46ms/step - loss: 0.0381 - accuracy: 0.9885 - val_loss: 1.5965 - val_accuracy: 0.7006\n",
            "Epoch 36/40\n",
            "126/126 [==============================] - 6s 46ms/step - loss: 0.0446 - accuracy: 0.9860 - val_loss: 0.9026 - val_accuracy: 0.7824\n",
            "Epoch 37/40\n",
            "126/126 [==============================] - 6s 46ms/step - loss: 0.0310 - accuracy: 0.9900 - val_loss: 0.8615 - val_accuracy: 0.8563\n",
            "Epoch 38/40\n",
            "126/126 [==============================] - 6s 46ms/step - loss: 0.0520 - accuracy: 0.9845 - val_loss: 1.3009 - val_accuracy: 0.6816\n",
            "Epoch 39/40\n",
            "126/126 [==============================] - 6s 46ms/step - loss: 0.0317 - accuracy: 0.9910 - val_loss: 3.7742 - val_accuracy: 0.4870\n",
            "Epoch 40/40\n",
            "126/126 [==============================] - 6s 47ms/step - loss: 0.0563 - accuracy: 0.9838 - val_loss: 4.0154 - val_accuracy: 0.4780\n"
          ]
        }
      ]
    },
    {
      "cell_type": "code",
      "source": [
        "plt.plot(his.history[\"loss\"],c = \"orange\")\n",
        "plt.plot(his.history[\"val_loss\"],c = \"green\")\n",
        "plt.title(\"Loss\")\n",
        "plt.ylabel(\"Loss\")\n",
        "plt.xlabel(\"Epochs\")\n",
        "plt.legend([\"train\", \"val\"])\n",
        "plt.show()"
      ],
      "metadata": {
        "id": "8Rmc1hKRYHaV",
        "colab": {
          "base_uri": "https://localhost:8080/",
          "height": 295
        },
        "outputId": "80f498b4-593f-439a-b736-4b810d4a5814"
      },
      "execution_count": 282,
      "outputs": [
        {
          "output_type": "display_data",
          "data": {
            "text/plain": [
              "<Figure size 432x288 with 1 Axes>"
            ],
            "image/png": "[encoded data removed]"
          },
          "metadata": {
            "needs_background": "light"
          }
        }
      ]
    },
    {
      "cell_type": "code",
      "source": [
        "plt.plot(his.history[\"accuracy\"],c = \"orange\")\n",
        "plt.plot(his.history[\"val_accuracy\"],c = \"green\")\n",
        "plt.title(\"Accuracy\")\n",
        "plt.ylabel(\"Accuracy\")\n",
        "plt.xlabel(\"Epochs\")\n",
        "plt.legend([\"train\", \"val\"])\n",
        "plt.show()"
      ],
      "metadata": {
        "colab": {
          "base_uri": "https://localhost:8080/",
          "height": 295
        },
        "id": "t0rfXcxxmK-b",
        "outputId": "51bafb78-cc09-45f3-fd78-029f535619ea"
      },
      "execution_count": 283,
      "outputs": [
        {
          "output_type": "display_data",
          "data": {
            "text/plain": [
              "<Figure size 432x288 with 1 Axes>"
            ],
            "image/png": "[encoded data removed]"
          },
          "metadata": {
            "needs_background": "light"
          }
        }
      ]
    },
    {
      "cell_type": "code",
      "source": [
        "model.save('/content/gdrive/MyDrive/ENPM809K/resnet50w5.h5')"
      ],
      "metadata": {
        "id": "ED9gH1eVclf1"
      },
      "execution_count": 377,
      "outputs": []
    },
    {
      "cell_type": "code",
      "source": [
        "from keras import models    \n",
        "m2=models.load_model('/content/gdrive/MyDrive/ENPM809K/resnet50w5.h5')"
      ],
      "metadata": {
        "id": "V5MNfdD0wSrx"
      },
      "execution_count": 378,
      "outputs": []
    },
    {
      "cell_type": "code",
      "source": [
        "import tensorflow as tf\n",
        "import numpy as np\n",
        "\n",
        "# load the model from the .h5 file\n",
        "model = tf.keras.models.load_model('/content/gdrive/MyDrive/ENPM809K/resnet50w5.h5')\n",
        "\n",
        "# load the test dataset\n",
        "test_data = Xce #np.load('test_data.npy')\n",
        "test_labels = yce#np.load('test_labels.npy')\n",
        "print(test_data.shape)\n",
        "print(test_labels.shape)\n",
        "eval= model.evaluate(test_data, test_labels)\n",
        "# make predictions on the test dataset\n",
        "predictions = model.predict(test_data)\n",
        "\n",
        "# evaluate the model's performance\n",
        "accuracy = tf.keras.metrics.Accuracy()\n",
        "accuracy.update_state(test_labels, predictions)\n",
        "# print('Accuracy: %.2f' % accuracy.result().numpy())\n",
        "print(eval,\"eval\")\n",
        "\n",
        "\n"
      ],
      "metadata": {
        "colab": {
          "base_uri": "https://localhost:8080/",
          "height": 0
        },
        "id": "TutkEp-uwhMx",
        "outputId": "fef63d73-88f3-4ca2-e0bf-f95acee693e7"
      },
      "execution_count": 379,
      "outputs": [
        {
          "output_type": "stream",
          "name": "stdout",
          "text": [
            "(1251, 150, 150, 1)\n",
            "(1251, 4)\n",
            "40/40 [==============================] - 0s 6ms/step - loss: 1.2760 - accuracy: 0.7698\n",
            "40/40 [==============================] - 0s 4ms/step\n",
            "[1.276041865348816, 0.769784152507782] eval\n"
          ]
        }
      ]
    },
    {
      "cell_type": "code",
      "source": [
        "model.save_weights('/content/gdrive/MyDrive/ENPM809K/restnetweight50.h5')"
      ],
      "metadata": {
        "id": "CD7SVw-3ECDD"
      },
      "execution_count": 380,
      "outputs": []
    },
    {
      "cell_type": "markdown",
      "source": [
        "# ResNet150\n"
      ],
      "metadata": {
        "id": "n77OsQAk0HHb"
      }
    },
    {
      "cell_type": "code",
      "source": [
        "from keras.applications.resnet import *\n",
        "rest_net1=Sequential()\n",
        "ptm1=tf.keras.applications.ResNet152V2(include_top=False,input_shape=(150,150,3),pooling='avg',classes=4)\n",
        "model.load_weights('/content/gdrive/MyDrive/ENPM809K/5layer60_weightsw4.h5')"
      ],
      "metadata": {
        "id": "_kzGEVVA0Qkn"
      },
      "execution_count": 317,
      "outputs": []
    },
    {
      "cell_type": "code",
      "source": [
        "for layer in model_res.layers:\n",
        "  layer.trainable = False\n",
        "rest_net1.add(ptm1)\n",
        "rest_net1.add(Flatten())\n",
        "rest_net1.add(Dense(512,activation='relu'))\n",
        "rest_net1.add(Dense(256,activation='relu'))\n",
        "rest_net1.add(Dense(128,activation='relu'))\n",
        "rest_net1.add(Dense(64,activation='relu'))\n",
        "rest_net1.add(Dense(4,activation='softmax'))"
      ],
      "metadata": {
        "id": "rbdI9Uao0ePB"
      },
      "execution_count": 318,
      "outputs": []
    },
    {
      "cell_type": "code",
      "source": [
        "rest_net1.summary()"
      ],
      "metadata": {
        "colab": {
          "base_uri": "https://localhost:8080/",
          "height": 0
        },
        "id": "hEoB5too-SGh",
        "outputId": "717c270a-0ca7-4f37-e1f0-235b8ee81881"
      },
      "execution_count": 319,
      "outputs": [
        {
          "output_type": "stream",
          "name": "stdout",
          "text": [
            "Model: \"sequential_34\"\n",
            "_________________________________________________________________\n",
            " Layer (type)                Output Shape              Param #   \n",
            "=================================================================\n",
            " resnet152v2 (Functional)    (None, 2048)              58331648  \n",
            "                                                                 \n",
            " flatten_21 (Flatten)        (None, 2048)              0         \n",
            "                                                                 \n",
            " dense_63 (Dense)            (None, 512)               1049088   \n",
            "                                                                 \n",
            " dense_64 (Dense)            (None, 256)               131328    \n",
            "                                                                 \n",
            " dense_65 (Dense)            (None, 128)               32896     \n",
            "                                                                 \n",
            " dense_66 (Dense)            (None, 64)                8256      \n",
            "                                                                 \n",
            " dense_67 (Dense)            (None, 4)                 260       \n",
            "                                                                 \n",
            "=================================================================\n",
            "Total params: 59,553,476\n",
            "Trainable params: 59,409,732\n",
            "Non-trainable params: 143,744\n",
            "_________________________________________________________________\n"
          ]
        }
      ]
    },
    {
      "cell_type": "code",
      "source": [
        "rest_net1.compile(optimizer=Adam(lr=1e-3),loss='categorical_crossentropy',metrics=['accuracy'])\n"
      ],
      "metadata": {
        "colab": {
          "base_uri": "https://localhost:8080/",
          "height": 0
        },
        "id": "m_GOQXmN4QN0",
        "outputId": "1c4e6af8-a578-4ee7-957c-eada2c38862f"
      },
      "execution_count": 342,
      "outputs": [
        {
          "output_type": "stream",
          "name": "stderr",
          "text": [
            "/usr/local/lib/python3.8/dist-packages/keras/optimizers/optimizer_v2/adam.py:110: UserWarning:\n",
            "\n",
            "The `lr` argument is deprecated, use `learning_rate` instead.\n",
            "\n"
          ]
        }
      ]
    },
    {
      "cell_type": "code",
      "source": [
        "epochs=40\n",
        "batch_size=20\n",
        "his2=rest_net1.fit(datagen.flow(X_y,Y_y),epochs=epochs,validation_data = (X_v,Y_v),validation_steps=20)"
      ],
      "metadata": {
        "colab": {
          "base_uri": "https://localhost:8080/",
          "height": 0
        },
        "id": "82_oU1Rd6oc9",
        "outputId": "e42454a9-11fd-47ff-ebab-13dd9b578c43"
      },
      "execution_count": 343,
      "outputs": [
        {
          "output_type": "stream",
          "name": "stdout",
          "text": [
            "Epoch 1/40\n",
            "126/126 [==============================] - 31s 124ms/step - loss: 0.0350 - accuracy: 0.9915 - val_loss: 0.8261 - val_accuracy: 0.8912\n",
            "Epoch 2/40\n",
            "126/126 [==============================] - 13s 102ms/step - loss: 0.0106 - accuracy: 0.9968 - val_loss: 0.8734 - val_accuracy: 0.8982\n",
            "Epoch 3/40\n",
            "126/126 [==============================] - 13s 104ms/step - loss: 0.0118 - accuracy: 0.9970 - val_loss: 0.7957 - val_accuracy: 0.8822\n",
            "Epoch 4/40\n",
            "126/126 [==============================] - 13s 102ms/step - loss: 0.0462 - accuracy: 0.9910 - val_loss: 0.7574 - val_accuracy: 0.8962\n",
            "Epoch 5/40\n",
            "126/126 [==============================] - 13s 103ms/step - loss: 0.0121 - accuracy: 0.9965 - val_loss: 0.8871 - val_accuracy: 0.8703\n",
            "Epoch 6/40\n",
            "126/126 [==============================] - 13s 104ms/step - loss: 0.0321 - accuracy: 0.9895 - val_loss: 0.7676 - val_accuracy: 0.8693\n",
            "Epoch 7/40\n",
            "126/126 [==============================] - 13s 103ms/step - loss: 0.0244 - accuracy: 0.9928 - val_loss: 0.7028 - val_accuracy: 0.8992\n",
            "Epoch 8/40\n",
            "126/126 [==============================] - 13s 103ms/step - loss: 0.0121 - accuracy: 0.9970 - val_loss: 0.6559 - val_accuracy: 0.8952\n",
            "Epoch 9/40\n",
            "126/126 [==============================] - 13s 103ms/step - loss: 0.0152 - accuracy: 0.9963 - val_loss: 2.2407 - val_accuracy: 0.7655\n",
            "Epoch 10/40\n",
            "126/126 [==============================] - 13s 102ms/step - loss: 0.0031 - accuracy: 0.9993 - val_loss: 0.8251 - val_accuracy: 0.8902\n",
            "Epoch 11/40\n",
            "126/126 [==============================] - 13s 102ms/step - loss: 0.0064 - accuracy: 0.9983 - val_loss: 0.7556 - val_accuracy: 0.8942\n",
            "Epoch 12/40\n",
            "126/126 [==============================] - 13s 103ms/step - loss: 0.0114 - accuracy: 0.9973 - val_loss: 1.1404 - val_accuracy: 0.8902\n",
            "Epoch 13/40\n",
            "126/126 [==============================] - 13s 103ms/step - loss: 0.0206 - accuracy: 0.9933 - val_loss: 1.1109 - val_accuracy: 0.8952\n",
            "Epoch 14/40\n",
            "126/126 [==============================] - 13s 103ms/step - loss: 0.0397 - accuracy: 0.9898 - val_loss: 1.2884 - val_accuracy: 0.8703\n",
            "Epoch 15/40\n",
            "126/126 [==============================] - 13s 103ms/step - loss: 0.0401 - accuracy: 0.9910 - val_loss: 1.1701 - val_accuracy: 0.8912\n",
            "Epoch 16/40\n",
            "126/126 [==============================] - 13s 103ms/step - loss: 0.0118 - accuracy: 0.9970 - val_loss: 1.0604 - val_accuracy: 0.9022\n",
            "Epoch 17/40\n",
            "126/126 [==============================] - 13s 103ms/step - loss: 0.0041 - accuracy: 0.9988 - val_loss: 1.0526 - val_accuracy: 0.9032\n",
            "Epoch 18/40\n",
            "126/126 [==============================] - 13s 103ms/step - loss: 0.0078 - accuracy: 0.9980 - val_loss: 6.0269 - val_accuracy: 0.8713\n",
            "Epoch 19/40\n",
            "126/126 [==============================] - 13s 102ms/step - loss: 0.0338 - accuracy: 0.9903 - val_loss: 1.1906 - val_accuracy: 0.8872\n",
            "Epoch 20/40\n",
            "126/126 [==============================] - 13s 102ms/step - loss: 0.1676 - accuracy: 0.9693 - val_loss: 0.5282 - val_accuracy: 0.8733\n",
            "Epoch 21/40\n",
            "126/126 [==============================] - 13s 102ms/step - loss: 0.0334 - accuracy: 0.9878 - val_loss: 0.5565 - val_accuracy: 0.8992\n",
            "Epoch 22/40\n",
            "126/126 [==============================] - 13s 103ms/step - loss: 0.0191 - accuracy: 0.9945 - val_loss: 0.5385 - val_accuracy: 0.8852\n",
            "Epoch 23/40\n",
            "126/126 [==============================] - 13s 102ms/step - loss: 0.0173 - accuracy: 0.9955 - val_loss: 0.6718 - val_accuracy: 0.9002\n",
            "Epoch 24/40\n",
            "126/126 [==============================] - 13s 103ms/step - loss: 0.0147 - accuracy: 0.9955 - val_loss: 0.6638 - val_accuracy: 0.9072\n",
            "Epoch 25/40\n",
            "126/126 [==============================] - 13s 102ms/step - loss: 0.0079 - accuracy: 0.9983 - val_loss: 0.6403 - val_accuracy: 0.8952\n",
            "Epoch 26/40\n",
            "126/126 [==============================] - 13s 103ms/step - loss: 0.0044 - accuracy: 0.9990 - val_loss: 0.6975 - val_accuracy: 0.8982\n",
            "Epoch 27/40\n",
            "126/126 [==============================] - 13s 102ms/step - loss: 0.0063 - accuracy: 0.9988 - val_loss: 0.6799 - val_accuracy: 0.8982\n",
            "Epoch 28/40\n",
            "126/126 [==============================] - 13s 102ms/step - loss: 0.0049 - accuracy: 0.9985 - val_loss: 0.7454 - val_accuracy: 0.8972\n",
            "Epoch 29/40\n",
            "126/126 [==============================] - 13s 102ms/step - loss: 0.0022 - accuracy: 0.9998 - val_loss: 0.8156 - val_accuracy: 0.8992\n",
            "Epoch 30/40\n",
            "126/126 [==============================] - 13s 103ms/step - loss: 0.0053 - accuracy: 0.9988 - val_loss: 0.8321 - val_accuracy: 0.8922\n",
            "Epoch 31/40\n",
            "126/126 [==============================] - 13s 102ms/step - loss: 0.0116 - accuracy: 0.9965 - val_loss: 0.6801 - val_accuracy: 0.9002\n",
            "Epoch 32/40\n",
            "126/126 [==============================] - 13s 102ms/step - loss: 0.0167 - accuracy: 0.9955 - val_loss: 0.8237 - val_accuracy: 0.8962\n",
            "Epoch 33/40\n",
            "126/126 [==============================] - 13s 103ms/step - loss: 0.0139 - accuracy: 0.9955 - val_loss: 0.7537 - val_accuracy: 0.8713\n",
            "Epoch 34/40\n",
            "126/126 [==============================] - 13s 103ms/step - loss: 0.0075 - accuracy: 0.9980 - val_loss: 0.7050 - val_accuracy: 0.8982\n",
            "Epoch 35/40\n",
            "126/126 [==============================] - 13s 103ms/step - loss: 0.0063 - accuracy: 0.9978 - val_loss: 0.9080 - val_accuracy: 0.8852\n",
            "Epoch 36/40\n",
            "126/126 [==============================] - 13s 102ms/step - loss: 0.0091 - accuracy: 0.9985 - val_loss: 0.7863 - val_accuracy: 0.8822\n",
            "Epoch 37/40\n",
            "126/126 [==============================] - 13s 103ms/step - loss: 0.0043 - accuracy: 0.9985 - val_loss: 0.7705 - val_accuracy: 0.8912\n",
            "Epoch 38/40\n",
            "126/126 [==============================] - 13s 103ms/step - loss: 0.0015 - accuracy: 0.9995 - val_loss: 0.8724 - val_accuracy: 0.8882\n",
            "Epoch 39/40\n",
            "126/126 [==============================] - 13s 103ms/step - loss: 0.0204 - accuracy: 0.9935 - val_loss: 0.7768 - val_accuracy: 0.8663\n",
            "Epoch 40/40\n",
            "126/126 [==============================] - 13s 103ms/step - loss: 0.0127 - accuracy: 0.9963 - val_loss: 0.7608 - val_accuracy: 0.8932\n"
          ]
        }
      ]
    },
    {
      "cell_type": "code",
      "source": [
        "plt.plot(his2.history[\"loss\"],c = \"pink\")\n",
        "plt.plot(his2.history[\"val_loss\"],c = \"magenta\")\n",
        "plt.title(\"Loss\")\n",
        "plt.ylabel(\"Loss\")\n",
        "plt.xlabel(\"Epochs\")\n",
        "plt.legend([\"train\", \"val\"])\n",
        "plt.show()"
      ],
      "metadata": {
        "colab": {
          "base_uri": "https://localhost:8080/",
          "height": 295
        },
        "id": "zasx21nbAjng",
        "outputId": "a12a7581-548a-48e7-8285-d2f2626f3f96"
      },
      "execution_count": 344,
      "outputs": [
        {
          "output_type": "display_data",
          "data": {
            "text/plain": [
              "<Figure size 432x288 with 1 Axes>"
            ],
            "image/png": "[encoded data removed]"
          },
          "metadata": {
            "needs_background": "light"
          }
        }
      ]
    },
    {
      "cell_type": "code",
      "source": [
        "plt.plot(his2.history[\"accuracy\"],c = \"pink\")\n",
        "plt.plot(his2.history[\"val_accuracy\"],c = \"magenta\")\n",
        "plt.title(\"Accuracy\")\n",
        "plt.ylabel(\"Accuracy\")\n",
        "plt.xlabel(\"Epochs\")\n",
        "plt.legend([\"train\", \"val\"])\n",
        "plt.show()"
      ],
      "metadata": {
        "colab": {
          "base_uri": "https://localhost:8080/",
          "height": 295
        },
        "id": "yjfYj3PUAkGk",
        "outputId": "7154178e-e1e0-4529-b96c-e6a7370d4792"
      },
      "execution_count": 345,
      "outputs": [
        {
          "output_type": "display_data",
          "data": {
            "text/plain": [
              "<Figure size 432x288 with 1 Axes>"
            ],
            "image/png": "[encoded data removed]"
          },
          "metadata": {
            "needs_background": "light"
          }
        }
      ]
    },
    {
      "cell_type": "markdown",
      "source": [],
      "metadata": {
        "id": "ydgGvJU40QVe"
      }
    },
    {
      "cell_type": "code",
      "source": [
        "model.save('/content/gdrive/MyDrive/ENPM809K/ee1.h5')"
      ],
      "metadata": {
        "id": "yd0DisEhA64K"
      },
      "execution_count": 346,
      "outputs": []
    },
    {
      "cell_type": "code",
      "source": [
        "from keras import models    \n",
        "m2=models.load_model('/content/gdrive/MyDrive/ENPM809K/ee1.h5')"
      ],
      "metadata": {
        "id": "ptmqeLgnA7ul"
      },
      "execution_count": 347,
      "outputs": []
    },
    {
      "cell_type": "code",
      "source": [
        "import tensorflow as tf\n",
        "import numpy as np\n",
        "\n",
        "# load the model from the .h5 file\n",
        "model = tf.keras.models.load_model('/content/gdrive/MyDrive/ENPM809K/ee1.h5')\n",
        "\n",
        "# load the test dataset\n",
        "test_data = Xce #np.load('test_data.npy')\n",
        "test_labels = yce#np.load('test_labels.npy')\n",
        "print(test_data.shape)\n",
        "print(test_labels.shape)\n",
        "eval= model.evaluate(test_data, test_labels)\n",
        "# make predictions on the test dataset\n",
        "predictions = model.predict(test_data)\n",
        "\n",
        "# evaluate the model's performance\n",
        "accuracy = tf.keras.metrics.Accuracy()\n",
        "accuracy.update_state(test_labels, predictions)\n",
        "# print('Accuracy: %.2f' % accuracy.result().numpy())\n",
        "print(eval,\"eval\")\n",
        "\n",
        "\n"
      ],
      "metadata": {
        "colab": {
          "base_uri": "https://localhost:8080/",
          "height": 0
        },
        "id": "wIFhm3CwBAJq",
        "outputId": "c389aa92-b284-40f0-c1a1-350d31936c56"
      },
      "execution_count": 348,
      "outputs": [
        {
          "output_type": "stream",
          "name": "stdout",
          "text": [
            "(1251, 150, 150, 1)\n",
            "(1251, 4)\n",
            "40/40 [==============================] - 1s 6ms/step - loss: 1.7722 - accuracy: 0.7162\n",
            "40/40 [==============================] - 0s 5ms/step\n",
            "[1.7722275257110596, 0.7162269949913025] eval\n"
          ]
        }
      ]
    },
    {
      "cell_type": "markdown",
      "source": [
        "# **TRAIN ACCURACY COMPARISON BETWEEN CNN, MOBILENET, RESNET 50, RESNET 152**"
      ],
      "metadata": {
        "id": "MM6BMAMDZrlO"
      }
    },
    {
      "cell_type": "code",
      "source": [
        "plt.plot(history.history[\"accuracy\"],c = \"pink\")\n",
        "plt.plot(hist.history[\"accuracy\"],c = \"Grey\")\n",
        "plt.plot(his.history[\"accuracy\"],c = \"blue\")\n",
        "plt.plot(his2.history[\"accuracy\"],c = \"brown\")\n",
        "plt.title(\"Train Accuracy\")\n",
        "plt.ylabel(\"Accuracy\")\n",
        "plt.xlabel(\"Epochs\")\n",
        "plt.legend([\"CNN\", \"MobileNet\",\"RestNet50\",\"RestNet152\"])\n",
        "plt.show()"
      ],
      "metadata": {
        "colab": {
          "base_uri": "https://localhost:8080/",
          "height": 295
        },
        "id": "vIcmhG2MBJUb",
        "outputId": "be5dabd4-07ca-47c4-f505-6ed8dc7dc114"
      },
      "execution_count": 363,
      "outputs": [
        {
          "output_type": "display_data",
          "data": {
            "text/plain": [
              "<Figure size 432x288 with 1 Axes>"
            ],
            "image/png": "[encoded data removed]"
          },
          "metadata": {
            "needs_background": "light"
          }
        }
      ]
    },
    {
      "cell_type": "code",
      "source": [
        "plt.plot(history.history[\"val_accuracy\"],c = \"silver\")\n",
        "plt.plot(hist.history[\"val_accuracy\"],c = \"green\")\n",
        "plt.plot(his.history[\"val_accuracy\"],c = \"gold\")\n",
        "plt.plot(his2.history[\"val_accuracy\"],c = \"black\")\n",
        "plt.title(\"Val Accuracy\")\n",
        "plt.ylabel(\" Val Accuracy\")\n",
        "plt.xlabel(\"Epochs\")\n",
        "plt.legend([\"CNN\", \"MobileNet\",\"RestNet50\",\"RestNet152\"])\n",
        "plt.show()"
      ],
      "metadata": {
        "colab": {
          "base_uri": "https://localhost:8080/",
          "height": 295
        },
        "id": "ktBXHC5WWEgv",
        "outputId": "f9a43219-5d3f-4f73-e408-1a2aa52562de"
      },
      "execution_count": 365,
      "outputs": [
        {
          "output_type": "display_data",
          "data": {
            "text/plain": [
              "<Figure size 432x288 with 1 Axes>"
            ],
            "image/png": "[encoded data removed]"
          },
          "metadata": {
            "needs_background": "light"
          }
        }
      ]
    }
  ],
  "metadata": {
    "accelerator": "GPU",
    "colab": {
      "provenance": [],
      "machine_shape": "hm"
    },
    "gpuClass": "standard",
    "kernelspec": {
      "display_name": "tf",
      "language": "python",
      "name": "python3"
    },
    "language_info": {
      "codemirror_mode": {
        "name": "ipython",
        "version": 3
      },
      "file_extension": ".py",
      "mimetype": "text/x-python",
      "name": "python",
      "nbconvert_exporter": "python",
      "pygments_lexer": "ipython3",
      "version": "3.9.15"
    },
    "vscode": {
      "interpreter": {
        "hash": "8082505f4aea19bed380a7fb3e8415cfcac8400e8748eeb229df9e20084e242b"
      }
    }
  },
  "nbformat": 4,
  "nbformat_minor": 0
}